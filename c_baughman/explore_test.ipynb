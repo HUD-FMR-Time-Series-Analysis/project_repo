{
 "cells": [
  {
   "cell_type": "code",
   "execution_count": 1,
   "id": "f81514fd-acd7-4168-8881-8a2b4ee4c828",
   "metadata": {},
   "outputs": [],
   "source": [
    "import pandas as pd\n",
    "from wrangle import wrangle_micro_data\n",
    "import matplotlib.pyplot as plt\n",
    "import seaborn as sns"
   ]
  },
  {
   "cell_type": "code",
   "execution_count": 2,
   "id": "fc00ca10-56a2-439f-904f-8ed959a6b980",
   "metadata": {
    "tags": []
   },
   "outputs": [
    {
     "name": "stdout",
     "output_type": "stream",
     "text": [
      "(422, 6)\n",
      "(9990, 2)\n",
      "(5370, 2)\n"
     ]
    }
   ],
   "source": [
    "df = wrangle_micro_data('baughman_rapid_api.csv')"
   ]
  },
  {
   "cell_type": "code",
   "execution_count": 3,
   "id": "c7b84dba-b722-460c-a5cd-2f1243ee6557",
   "metadata": {},
   "outputs": [
    {
     "data": {
      "text/html": [
       "<div>\n",
       "<style scoped>\n",
       "    .dataframe tbody tr th:only-of-type {\n",
       "        vertical-align: middle;\n",
       "    }\n",
       "\n",
       "    .dataframe tbody tr th {\n",
       "        vertical-align: top;\n",
       "    }\n",
       "\n",
       "    .dataframe thead th {\n",
       "        text-align: right;\n",
       "    }\n",
       "</style>\n",
       "<table border=\"1\" class=\"dataframe\">\n",
       "  <thead>\n",
       "    <tr style=\"text-align: right;\">\n",
       "      <th></th>\n",
       "      <th>zip_code</th>\n",
       "      <th>two_bed_fmr</th>\n",
       "      <th>bedrooms</th>\n",
       "      <th>average_rent</th>\n",
       "      <th>min_rent</th>\n",
       "      <th>max_rent</th>\n",
       "      <th>num_properties</th>\n",
       "      <th>diff</th>\n",
       "      <th>percent_diff</th>\n",
       "    </tr>\n",
       "    <tr>\n",
       "      <th>date</th>\n",
       "      <th></th>\n",
       "      <th></th>\n",
       "      <th></th>\n",
       "      <th></th>\n",
       "      <th></th>\n",
       "      <th></th>\n",
       "      <th></th>\n",
       "      <th></th>\n",
       "      <th></th>\n",
       "    </tr>\n",
       "  </thead>\n",
       "  <tbody>\n",
       "    <tr>\n",
       "      <th>2020-04-01</th>\n",
       "      <td>78002</td>\n",
       "      <td>890.0</td>\n",
       "      <td>NaN</td>\n",
       "      <td>NaN</td>\n",
       "      <td>NaN</td>\n",
       "      <td>NaN</td>\n",
       "      <td>NaN</td>\n",
       "      <td>NaN</td>\n",
       "      <td>NaN</td>\n",
       "    </tr>\n",
       "    <tr>\n",
       "      <th>2020-05-01</th>\n",
       "      <td>78002</td>\n",
       "      <td>890.0</td>\n",
       "      <td>NaN</td>\n",
       "      <td>NaN</td>\n",
       "      <td>NaN</td>\n",
       "      <td>NaN</td>\n",
       "      <td>NaN</td>\n",
       "      <td>NaN</td>\n",
       "      <td>NaN</td>\n",
       "    </tr>\n",
       "    <tr>\n",
       "      <th>2020-06-01</th>\n",
       "      <td>78002</td>\n",
       "      <td>890.0</td>\n",
       "      <td>NaN</td>\n",
       "      <td>NaN</td>\n",
       "      <td>NaN</td>\n",
       "      <td>NaN</td>\n",
       "      <td>NaN</td>\n",
       "      <td>NaN</td>\n",
       "      <td>NaN</td>\n",
       "    </tr>\n",
       "    <tr>\n",
       "      <th>2020-07-01</th>\n",
       "      <td>78002</td>\n",
       "      <td>890.0</td>\n",
       "      <td>NaN</td>\n",
       "      <td>NaN</td>\n",
       "      <td>NaN</td>\n",
       "      <td>NaN</td>\n",
       "      <td>NaN</td>\n",
       "      <td>NaN</td>\n",
       "      <td>NaN</td>\n",
       "    </tr>\n",
       "    <tr>\n",
       "      <th>2020-08-01</th>\n",
       "      <td>78002</td>\n",
       "      <td>890.0</td>\n",
       "      <td>NaN</td>\n",
       "      <td>NaN</td>\n",
       "      <td>NaN</td>\n",
       "      <td>NaN</td>\n",
       "      <td>NaN</td>\n",
       "      <td>NaN</td>\n",
       "      <td>NaN</td>\n",
       "    </tr>\n",
       "    <tr>\n",
       "      <th>...</th>\n",
       "      <td>...</td>\n",
       "      <td>...</td>\n",
       "      <td>...</td>\n",
       "      <td>...</td>\n",
       "      <td>...</td>\n",
       "      <td>...</td>\n",
       "      <td>...</td>\n",
       "      <td>...</td>\n",
       "      <td>...</td>\n",
       "    </tr>\n",
       "    <tr>\n",
       "      <th>2023-02-01</th>\n",
       "      <td>78285</td>\n",
       "      <td>1270.0</td>\n",
       "      <td>NaN</td>\n",
       "      <td>NaN</td>\n",
       "      <td>NaN</td>\n",
       "      <td>NaN</td>\n",
       "      <td>NaN</td>\n",
       "      <td>NaN</td>\n",
       "      <td>NaN</td>\n",
       "    </tr>\n",
       "    <tr>\n",
       "      <th>2023-03-01</th>\n",
       "      <td>78285</td>\n",
       "      <td>1270.0</td>\n",
       "      <td>NaN</td>\n",
       "      <td>NaN</td>\n",
       "      <td>NaN</td>\n",
       "      <td>NaN</td>\n",
       "      <td>NaN</td>\n",
       "      <td>NaN</td>\n",
       "      <td>NaN</td>\n",
       "    </tr>\n",
       "    <tr>\n",
       "      <th>2023-04-01</th>\n",
       "      <td>78285</td>\n",
       "      <td>1270.0</td>\n",
       "      <td>NaN</td>\n",
       "      <td>NaN</td>\n",
       "      <td>NaN</td>\n",
       "      <td>NaN</td>\n",
       "      <td>NaN</td>\n",
       "      <td>NaN</td>\n",
       "      <td>NaN</td>\n",
       "    </tr>\n",
       "    <tr>\n",
       "      <th>2023-05-01</th>\n",
       "      <td>78285</td>\n",
       "      <td>1270.0</td>\n",
       "      <td>NaN</td>\n",
       "      <td>NaN</td>\n",
       "      <td>NaN</td>\n",
       "      <td>NaN</td>\n",
       "      <td>NaN</td>\n",
       "      <td>NaN</td>\n",
       "      <td>NaN</td>\n",
       "    </tr>\n",
       "    <tr>\n",
       "      <th>2023-06-01</th>\n",
       "      <td>78285</td>\n",
       "      <td>1270.0</td>\n",
       "      <td>NaN</td>\n",
       "      <td>NaN</td>\n",
       "      <td>NaN</td>\n",
       "      <td>NaN</td>\n",
       "      <td>NaN</td>\n",
       "      <td>NaN</td>\n",
       "      <td>NaN</td>\n",
       "    </tr>\n",
       "  </tbody>\n",
       "</table>\n",
       "<p>5370 rows × 9 columns</p>\n",
       "</div>"
      ],
      "text/plain": [
       "           zip_code  two_bed_fmr  bedrooms  average_rent  min_rent  max_rent  \\\n",
       "date                                                                           \n",
       "2020-04-01    78002        890.0       NaN           NaN       NaN       NaN   \n",
       "2020-05-01    78002        890.0       NaN           NaN       NaN       NaN   \n",
       "2020-06-01    78002        890.0       NaN           NaN       NaN       NaN   \n",
       "2020-07-01    78002        890.0       NaN           NaN       NaN       NaN   \n",
       "2020-08-01    78002        890.0       NaN           NaN       NaN       NaN   \n",
       "...             ...          ...       ...           ...       ...       ...   \n",
       "2023-02-01    78285       1270.0       NaN           NaN       NaN       NaN   \n",
       "2023-03-01    78285       1270.0       NaN           NaN       NaN       NaN   \n",
       "2023-04-01    78285       1270.0       NaN           NaN       NaN       NaN   \n",
       "2023-05-01    78285       1270.0       NaN           NaN       NaN       NaN   \n",
       "2023-06-01    78285       1270.0       NaN           NaN       NaN       NaN   \n",
       "\n",
       "            num_properties  diff  percent_diff  \n",
       "date                                            \n",
       "2020-04-01             NaN   NaN           NaN  \n",
       "2020-05-01             NaN   NaN           NaN  \n",
       "2020-06-01             NaN   NaN           NaN  \n",
       "2020-07-01             NaN   NaN           NaN  \n",
       "2020-08-01             NaN   NaN           NaN  \n",
       "...                    ...   ...           ...  \n",
       "2023-02-01             NaN   NaN           NaN  \n",
       "2023-03-01             NaN   NaN           NaN  \n",
       "2023-04-01             NaN   NaN           NaN  \n",
       "2023-05-01             NaN   NaN           NaN  \n",
       "2023-06-01             NaN   NaN           NaN  \n",
       "\n",
       "[5370 rows x 9 columns]"
      ]
     },
     "execution_count": 3,
     "metadata": {},
     "output_type": "execute_result"
    }
   ],
   "source": [
    "df"
   ]
  },
  {
   "cell_type": "code",
   "execution_count": 4,
   "id": "74c9d650-4f23-49cc-b84c-f2d183cef07f",
   "metadata": {},
   "outputs": [
    {
     "name": "stdout",
     "output_type": "stream",
     "text": [
      "<class 'pandas.core.frame.DataFrame'>\n",
      "DatetimeIndex: 5370 entries, 2020-04-01 to 2023-06-01\n",
      "Data columns (total 9 columns):\n",
      " #   Column          Non-Null Count  Dtype  \n",
      "---  ------          --------------  -----  \n",
      " 0   zip_code        5370 non-null   object \n",
      " 1   two_bed_fmr     5370 non-null   float64\n",
      " 2   bedrooms        422 non-null    float64\n",
      " 3   average_rent    422 non-null    float64\n",
      " 4   min_rent        422 non-null    float64\n",
      " 5   max_rent        422 non-null    float64\n",
      " 6   num_properties  422 non-null    float64\n",
      " 7   diff            422 non-null    float64\n",
      " 8   percent_diff    422 non-null    float64\n",
      "dtypes: float64(8), object(1)\n",
      "memory usage: 419.5+ KB\n"
     ]
    }
   ],
   "source": [
    "df.info()"
   ]
  },
  {
   "cell_type": "code",
   "execution_count": 5,
   "id": "6547ac14-6fba-410a-accc-9ddf6bc92b17",
   "metadata": {},
   "outputs": [
    {
     "data": {
      "text/plain": [
       "78002    39\n",
       "78254    39\n",
       "78248    39\n",
       "78249    39\n",
       "78250    39\n",
       "         ..\n",
       "78206    39\n",
       "78207    39\n",
       "78208    39\n",
       "78241    33\n",
       "78285    33\n",
       "Name: zip_code, Length: 138, dtype: int64"
      ]
     },
     "execution_count": 5,
     "metadata": {},
     "output_type": "execute_result"
    }
   ],
   "source": [
    "df.zip_code.value_counts()"
   ]
  },
  {
   "cell_type": "code",
   "execution_count": 6,
   "id": "ff74676d-53bc-400c-8fe5-ef387ac597ff",
   "metadata": {},
   "outputs": [
    {
     "data": {
      "text/plain": [
       "138"
      ]
     },
     "execution_count": 6,
     "metadata": {},
     "output_type": "execute_result"
    }
   ],
   "source": [
    "df.zip_code.nunique()"
   ]
  },
  {
   "cell_type": "code",
   "execution_count": 7,
   "id": "280f9ec0-60ef-41aa-8aa2-89ddde277312",
   "metadata": {},
   "outputs": [
    {
     "data": {
      "text/plain": [
       "<AxesSubplot:xlabel='percent_diff'>"
      ]
     },
     "execution_count": 7,
     "metadata": {},
     "output_type": "execute_result"
    },
    {
     "data": {
      "image/png": "[encoded data removed]",
      "text/plain": [
       "<Figure size 640x480 with 1 Axes>"
      ]
     },
     "metadata": {},
     "output_type": "display_data"
    }
   ],
   "source": [
    "sns.boxplot(x=df.percent_diff)"
   ]
  },
  {
   "cell_type": "code",
   "execution_count": 8,
   "id": "7e5cb35f-056a-457f-868b-d9ec8b09d1be",
   "metadata": {},
   "outputs": [
    {
     "data": {
      "text/plain": [
       "count    422.000000\n",
       "mean       6.439304\n",
       "std       23.713718\n",
       "min      -36.893204\n",
       "25%       -7.852384\n",
       "50%        1.226978\n",
       "75%       15.161559\n",
       "max      104.741379\n",
       "Name: percent_diff, dtype: float64"
      ]
     },
     "execution_count": 8,
     "metadata": {},
     "output_type": "execute_result"
    }
   ],
   "source": [
    "df.percent_diff.describe()"
   ]
  },
  {
   "cell_type": "code",
   "execution_count": 9,
   "id": "e387c076-78f0-466c-bef7-d0d04a529bf4",
   "metadata": {},
   "outputs": [
    {
     "name": "stdout",
     "output_type": "stream",
     "text": [
      "<class 'pandas.core.frame.DataFrame'>\n",
      "DatetimeIndex: 5370 entries, 2020-04-01 to 2023-06-01\n",
      "Data columns (total 9 columns):\n",
      " #   Column          Non-Null Count  Dtype  \n",
      "---  ------          --------------  -----  \n",
      " 0   zip_code        5370 non-null   object \n",
      " 1   two_bed_fmr     5370 non-null   float64\n",
      " 2   bedrooms        422 non-null    float64\n",
      " 3   average_rent    422 non-null    float64\n",
      " 4   min_rent        422 non-null    float64\n",
      " 5   max_rent        422 non-null    float64\n",
      " 6   num_properties  422 non-null    float64\n",
      " 7   diff            422 non-null    float64\n",
      " 8   percent_diff    422 non-null    float64\n",
      "dtypes: float64(8), object(1)\n",
      "memory usage: 419.5+ KB\n"
     ]
    }
   ],
   "source": [
    "df.info()"
   ]
  },
  {
   "cell_type": "code",
   "execution_count": null,
   "id": "ae741275-c26a-4a5a-b92d-79ce1baf349c",
   "metadata": {},
   "outputs": [],
   "source": []
  }
 ],
 "metadata": {
  "kernelspec": {
   "display_name": "Python 3 (ipykernel)",
   "language": "python",
   "name": "python3"
  },
  "language_info": {
   "codemirror_mode": {
    "name": "ipython",
    "version": 3
   },
   "file_extension": ".py",
   "mimetype": "text/x-python",
   "name": "python",
   "nbconvert_exporter": "python",
   "pygments_lexer": "ipython3",
   "version": "3.9.13"
  }
 },
 "nbformat": 4,
 "nbformat_minor": 5
}
