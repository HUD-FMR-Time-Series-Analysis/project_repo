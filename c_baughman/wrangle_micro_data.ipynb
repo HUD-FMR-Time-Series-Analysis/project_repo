{
 "cells": [
  {
   "cell_type": "markdown",
   "id": "8d878e52-5ff2-4d05-aca4-86d24351b576",
   "metadata": {},
   "source": [
    "## Wrangle Micro Data Notebook"
   ]
  },
  {
   "cell_type": "code",
   "execution_count": 1,
   "id": "7f400842-4d91-4467-af15-c9565295b219",
   "metadata": {},
   "outputs": [],
   "source": [
    "import time\n",
    "import requests\n",
    "import pandas as pd\n",
    "from datetime import datetime\n",
    "\n",
    "import wrangle_rapid as w\n",
    "import wrangle_hud_micro as whm\n",
    "from env import rm_api, hud_token\n",
    "import warnings\n",
    "warnings.filterwarnings('ignore')\n"
   ]
  },
  {
   "cell_type": "markdown",
   "id": "da927b1c-4c72-403e-a6a5-4c5351f9445f",
   "metadata": {},
   "source": [
    "### Rapid API Micro Data"
   ]
  },
  {
   "cell_type": "code",
   "execution_count": 2,
   "id": "bdcf81e7-227a-4ad1-b3de-d0413580f4e2",
   "metadata": {},
   "outputs": [],
   "source": [
    "corey_zipcodes = ['78258', '78259', '78260', '78261', '78263', '78264', '78265',\n",
    "       '78266', '78268', '78269', '78270', '78278', '78279', '78280',\n",
    "       '78283', '78285', '78288', '78291', '78292', '78293', '78294',\n",
    "       '78295', '78296', '78297', '78298', '78299', '78606', '78623',\n",
    "       '78638', '78648', '78655', '78666', '78670', '78676', '78883',\n",
    "       '78884', '78885', '78117', '78850']"
   ]
  },
  {
   "cell_type": "code",
   "execution_count": 3,
   "id": "318b168d-c533-48e0-8ab7-04d3b2038bfa",
   "metadata": {},
   "outputs": [],
   "source": [
    "# w.get_rapid_api(corey_zipcodes, rm_api, 'baughman_rapid_api.csv')"
   ]
  },
  {
   "cell_type": "code",
   "execution_count": 4,
   "id": "9216c6f9-5773-4725-b43e-21ae951afdef",
   "metadata": {},
   "outputs": [],
   "source": [
    "df_rapid = w.rapid_api_mvp_prep('baughman_rapid_api.csv')"
   ]
  },
  {
   "cell_type": "code",
   "execution_count": 5,
   "id": "9a8a8069-f4d2-43ae-8cb1-f14fa695ffbc",
   "metadata": {},
   "outputs": [
    {
     "data": {
      "text/html": [
       "<div>\n",
       "<style scoped>\n",
       "    .dataframe tbody tr th:only-of-type {\n",
       "        vertical-align: middle;\n",
       "    }\n",
       "\n",
       "    .dataframe tbody tr th {\n",
       "        vertical-align: top;\n",
       "    }\n",
       "\n",
       "    .dataframe thead th {\n",
       "        text-align: right;\n",
       "    }\n",
       "</style>\n",
       "<table border=\"1\" class=\"dataframe\">\n",
       "  <thead>\n",
       "    <tr style=\"text-align: right;\">\n",
       "      <th></th>\n",
       "      <th>bedrooms</th>\n",
       "      <th>averageRent</th>\n",
       "      <th>minRent</th>\n",
       "      <th>maxRent</th>\n",
       "      <th>totalRentals</th>\n",
       "      <th>zipcode</th>\n",
       "    </tr>\n",
       "    <tr>\n",
       "      <th>date</th>\n",
       "      <th></th>\n",
       "      <th></th>\n",
       "      <th></th>\n",
       "      <th></th>\n",
       "      <th></th>\n",
       "      <th></th>\n",
       "    </tr>\n",
       "  </thead>\n",
       "  <tbody>\n",
       "    <tr>\n",
       "      <th>2020-04-01</th>\n",
       "      <td>2</td>\n",
       "      <td>1648.78</td>\n",
       "      <td>1303</td>\n",
       "      <td>2495</td>\n",
       "      <td>9</td>\n",
       "      <td>78261</td>\n",
       "    </tr>\n",
       "  </tbody>\n",
       "</table>\n",
       "</div>"
      ],
      "text/plain": [
       "            bedrooms  averageRent  minRent  maxRent  totalRentals zipcode\n",
       "date                                                                     \n",
       "2020-04-01         2      1648.78     1303     2495             9   78261"
      ]
     },
     "execution_count": 5,
     "metadata": {},
     "output_type": "execute_result"
    }
   ],
   "source": [
    "df_rapid.head(1)"
   ]
  },
  {
   "cell_type": "code",
   "execution_count": 6,
   "id": "eceb0116-f4a7-4a71-9a89-c8d4915d6920",
   "metadata": {},
   "outputs": [],
   "source": [
    "cols = df_rapid.columns.to_list()"
   ]
  },
  {
   "cell_type": "code",
   "execution_count": 7,
   "id": "50de94f5-06a2-44c0-944d-5423cad3bb57",
   "metadata": {},
   "outputs": [],
   "source": [
    "new_cols = ['bedrooms', 'average_rent', 'min_rent',\n",
    "            'max_rent', 'num_properties', 'zip_code']"
   ]
  },
  {
   "cell_type": "code",
   "execution_count": 8,
   "id": "42684a73-e197-4a3d-a9e8-5a561f8a1d4c",
   "metadata": {},
   "outputs": [],
   "source": [
    "df_rapid = df_rapid.rename(columns = dict(zip(cols, new_cols)))"
   ]
  },
  {
   "cell_type": "markdown",
   "id": "48947833-229c-47f2-a72a-c623fb40d26a",
   "metadata": {},
   "source": [
    "### HUD Micro Data"
   ]
  },
  {
   "cell_type": "code",
   "execution_count": 9,
   "id": "2b706960-5c6c-4257-bd79-331fcaa56e12",
   "metadata": {},
   "outputs": [],
   "source": [
    "# gonna do some quick validation on the original HUD dataset pulled"
   ]
  },
  {
   "cell_type": "code",
   "execution_count": 10,
   "id": "93f19003-4308-4d24-93c7-80a563af0924",
   "metadata": {},
   "outputs": [
    {
     "data": {
      "text/html": [
       "<div>\n",
       "<style scoped>\n",
       "    .dataframe tbody tr th:only-of-type {\n",
       "        vertical-align: middle;\n",
       "    }\n",
       "\n",
       "    .dataframe tbody tr th {\n",
       "        vertical-align: top;\n",
       "    }\n",
       "\n",
       "    .dataframe thead th {\n",
       "        text-align: right;\n",
       "    }\n",
       "</style>\n",
       "<table border=\"1\" class=\"dataframe\">\n",
       "  <thead>\n",
       "    <tr style=\"text-align: right;\">\n",
       "      <th></th>\n",
       "      <th>zip_code</th>\n",
       "      <th>Efficiency</th>\n",
       "      <th>One-Bedroom</th>\n",
       "      <th>Two-Bedroom</th>\n",
       "      <th>Three-Bedroom</th>\n",
       "      <th>Four-Bedroom</th>\n",
       "      <th>year</th>\n",
       "      <th>entity_id</th>\n",
       "      <th>area_name</th>\n",
       "    </tr>\n",
       "  </thead>\n",
       "  <tbody>\n",
       "    <tr>\n",
       "      <th>0</th>\n",
       "      <td>78002</td>\n",
       "      <td>570</td>\n",
       "      <td>710</td>\n",
       "      <td>880</td>\n",
       "      <td>1170</td>\n",
       "      <td>1420</td>\n",
       "      <td>2018</td>\n",
       "      <td>METRO41700M41700</td>\n",
       "      <td>San Antonio-New Braunfels, TX HUD Metro FMR Area</td>\n",
       "    </tr>\n",
       "  </tbody>\n",
       "</table>\n",
       "</div>"
      ],
      "text/plain": [
       "  zip_code  Efficiency  One-Bedroom  Two-Bedroom  Three-Bedroom  Four-Bedroom  \\\n",
       "0    78002         570          710          880           1170          1420   \n",
       "\n",
       "   year         entity_id                                         area_name  \n",
       "0  2018  METRO41700M41700  San Antonio-New Braunfels, TX HUD Metro FMR Area  "
      ]
     },
     "execution_count": 10,
     "metadata": {},
     "output_type": "execute_result"
    }
   ],
   "source": [
    "df_1 = whm.get_yearly_entity_data('METRO41700M41700')\n",
    "df_1.head(1)"
   ]
  },
  {
   "cell_type": "code",
   "execution_count": 24,
   "id": "ce1c9be2-2b99-4b28-83e4-19212b32ef66",
   "metadata": {},
   "outputs": [
    {
     "data": {
      "text/plain": [
       "78002    6\n",
       "78245    6\n",
       "78259    6\n",
       "78258    6\n",
       "78257    6\n",
       "        ..\n",
       "78207    6\n",
       "78241    3\n",
       "78285    3\n",
       "78850    1\n",
       "78117    1\n",
       "Name: zip_code, Length: 138, dtype: int64"
      ]
     },
     "execution_count": 24,
     "metadata": {},
     "output_type": "execute_result"
    }
   ],
   "source": [
    "# okay, now checking number of zip codes\n",
    "df_1.zip_code.value_counts()"
   ]
  },
  {
   "cell_type": "code",
   "execution_count": null,
   "id": "8a05b759-ac4d-4e32-85b6-83eb492175b4",
   "metadata": {},
   "outputs": [],
   "source": [
    "# looks like there are 138 zip codes present\n",
    "# there are 6 years of data\n",
    "# four of those have incomplete entries. Why?\n",
    "# "
   ]
  },
  {
   "cell_type": "code",
   "execution_count": 29,
   "id": "38f6f9d9-514b-4869-b600-30c1de1ef0ae",
   "metadata": {},
   "outputs": [
    {
     "data": {
      "text/html": [
       "<div>\n",
       "<style scoped>\n",
       "    .dataframe tbody tr th:only-of-type {\n",
       "        vertical-align: middle;\n",
       "    }\n",
       "\n",
       "    .dataframe tbody tr th {\n",
       "        vertical-align: top;\n",
       "    }\n",
       "\n",
       "    .dataframe thead th {\n",
       "        text-align: right;\n",
       "    }\n",
       "</style>\n",
       "<table border=\"1\" class=\"dataframe\">\n",
       "  <thead>\n",
       "    <tr style=\"text-align: right;\">\n",
       "      <th></th>\n",
       "      <th>zip_code</th>\n",
       "      <th>Efficiency</th>\n",
       "      <th>One-Bedroom</th>\n",
       "      <th>Two-Bedroom</th>\n",
       "      <th>Three-Bedroom</th>\n",
       "      <th>Four-Bedroom</th>\n",
       "      <th>year</th>\n",
       "      <th>entity_id</th>\n",
       "      <th>area_name</th>\n",
       "    </tr>\n",
       "  </thead>\n",
       "  <tbody>\n",
       "    <tr>\n",
       "      <th>23</th>\n",
       "      <td>78117</td>\n",
       "      <td>660</td>\n",
       "      <td>800</td>\n",
       "      <td>1000</td>\n",
       "      <td>1310</td>\n",
       "      <td>1610</td>\n",
       "      <td>2019</td>\n",
       "      <td>METRO41700M41700</td>\n",
       "      <td>San Antonio-New Braunfels, TX HUD Metro FMR Area</td>\n",
       "    </tr>\n",
       "  </tbody>\n",
       "</table>\n",
       "</div>"
      ],
      "text/plain": [
       "   zip_code  Efficiency  One-Bedroom  Two-Bedroom  Three-Bedroom  \\\n",
       "23    78117         660          800         1000           1310   \n",
       "\n",
       "    Four-Bedroom  year         entity_id  \\\n",
       "23          1610  2019  METRO41700M41700   \n",
       "\n",
       "                                           area_name  \n",
       "23  San Antonio-New Braunfels, TX HUD Metro FMR Area  "
      ]
     },
     "execution_count": 29,
     "metadata": {},
     "output_type": "execute_result"
    }
   ],
   "source": [
    "df_1[df_1.zip_code == '78117']"
   ]
  },
  {
   "cell_type": "markdown",
   "id": "7ab16e30-161c-423c-88ce-5c55e406fd24",
   "metadata": {},
   "source": [
    "Missing ZIP codes:\n",
    "- 78241 only belongs to the MSA in 2021, 2022, 2023\n",
    "- 78285 only belongs to the MSA in 2021, 2022, 2023\n",
    "- 78850 only belongs to the MSA in 2018\n",
    "- 78117 only belongs to the MSA in 2019\n"
   ]
  },
  {
   "cell_type": "code",
   "execution_count": 11,
   "id": "ed3bbef4-103a-47b0-b380-d8d45fd3cb96",
   "metadata": {
    "tags": []
   },
   "outputs": [],
   "source": [
    "df_hud = whm.get_hud_micro_data()"
   ]
  },
  {
   "cell_type": "code",
   "execution_count": 12,
   "id": "9dea25fe-9bd9-40ae-88db-bdf1be514762",
   "metadata": {},
   "outputs": [
    {
     "data": {
      "text/html": [
       "<div>\n",
       "<style scoped>\n",
       "    .dataframe tbody tr th:only-of-type {\n",
       "        vertical-align: middle;\n",
       "    }\n",
       "\n",
       "    .dataframe tbody tr th {\n",
       "        vertical-align: top;\n",
       "    }\n",
       "\n",
       "    .dataframe thead th {\n",
       "        text-align: right;\n",
       "    }\n",
       "</style>\n",
       "<table border=\"1\" class=\"dataframe\">\n",
       "  <thead>\n",
       "    <tr style=\"text-align: right;\">\n",
       "      <th></th>\n",
       "      <th>zip_code</th>\n",
       "      <th>two_bed_fmr</th>\n",
       "    </tr>\n",
       "    <tr>\n",
       "      <th>date</th>\n",
       "      <th></th>\n",
       "      <th></th>\n",
       "    </tr>\n",
       "  </thead>\n",
       "  <tbody>\n",
       "    <tr>\n",
       "      <th>2017-10-01</th>\n",
       "      <td>78002</td>\n",
       "      <td>880.0</td>\n",
       "    </tr>\n",
       "    <tr>\n",
       "      <th>2017-11-01</th>\n",
       "      <td>78002</td>\n",
       "      <td>880.0</td>\n",
       "    </tr>\n",
       "    <tr>\n",
       "      <th>2017-12-01</th>\n",
       "      <td>78002</td>\n",
       "      <td>880.0</td>\n",
       "    </tr>\n",
       "    <tr>\n",
       "      <th>2018-01-01</th>\n",
       "      <td>78002</td>\n",
       "      <td>880.0</td>\n",
       "    </tr>\n",
       "    <tr>\n",
       "      <th>2018-02-01</th>\n",
       "      <td>78002</td>\n",
       "      <td>880.0</td>\n",
       "    </tr>\n",
       "    <tr>\n",
       "      <th>...</th>\n",
       "      <td>...</td>\n",
       "      <td>...</td>\n",
       "    </tr>\n",
       "    <tr>\n",
       "      <th>2023-06-01</th>\n",
       "      <td>78285</td>\n",
       "      <td>1270.0</td>\n",
       "    </tr>\n",
       "    <tr>\n",
       "      <th>2023-07-01</th>\n",
       "      <td>78285</td>\n",
       "      <td>1270.0</td>\n",
       "    </tr>\n",
       "    <tr>\n",
       "      <th>2023-08-01</th>\n",
       "      <td>78285</td>\n",
       "      <td>1270.0</td>\n",
       "    </tr>\n",
       "    <tr>\n",
       "      <th>2023-09-01</th>\n",
       "      <td>78285</td>\n",
       "      <td>1270.0</td>\n",
       "    </tr>\n",
       "    <tr>\n",
       "      <th>2023-10-01</th>\n",
       "      <td>78285</td>\n",
       "      <td>NaN</td>\n",
       "    </tr>\n",
       "  </tbody>\n",
       "</table>\n",
       "<p>9990 rows × 2 columns</p>\n",
       "</div>"
      ],
      "text/plain": [
       "            zip_code  two_bed_fmr\n",
       "date                             \n",
       "2017-10-01     78002        880.0\n",
       "2017-11-01     78002        880.0\n",
       "2017-12-01     78002        880.0\n",
       "2018-01-01     78002        880.0\n",
       "2018-02-01     78002        880.0\n",
       "...              ...          ...\n",
       "2023-06-01     78285       1270.0\n",
       "2023-07-01     78285       1270.0\n",
       "2023-08-01     78285       1270.0\n",
       "2023-09-01     78285       1270.0\n",
       "2023-10-01     78285          NaN\n",
       "\n",
       "[9990 rows x 2 columns]"
      ]
     },
     "execution_count": 12,
     "metadata": {},
     "output_type": "execute_result"
    }
   ],
   "source": [
    "whm.get_hud_micro_data()"
   ]
  },
  {
   "cell_type": "code",
   "execution_count": 13,
   "id": "93b58d4e-a77e-46f6-9502-68a292b0b7c2",
   "metadata": {},
   "outputs": [],
   "source": [
    "# df_hud.index = pd.to_datetime(df_hud.index)"
   ]
  },
  {
   "cell_type": "code",
   "execution_count": 14,
   "id": "97f18028-cf3a-4af7-953f-b2e3f0db2fe1",
   "metadata": {},
   "outputs": [
    {
     "data": {
      "text/html": [
       "<div>\n",
       "<style scoped>\n",
       "    .dataframe tbody tr th:only-of-type {\n",
       "        vertical-align: middle;\n",
       "    }\n",
       "\n",
       "    .dataframe tbody tr th {\n",
       "        vertical-align: top;\n",
       "    }\n",
       "\n",
       "    .dataframe thead th {\n",
       "        text-align: right;\n",
       "    }\n",
       "</style>\n",
       "<table border=\"1\" class=\"dataframe\">\n",
       "  <thead>\n",
       "    <tr style=\"text-align: right;\">\n",
       "      <th></th>\n",
       "      <th>zip_code</th>\n",
       "      <th>two_bed_fmr</th>\n",
       "    </tr>\n",
       "    <tr>\n",
       "      <th>date</th>\n",
       "      <th></th>\n",
       "      <th></th>\n",
       "    </tr>\n",
       "  </thead>\n",
       "  <tbody>\n",
       "    <tr>\n",
       "      <th>2017-10-01</th>\n",
       "      <td>78002</td>\n",
       "      <td>880.0</td>\n",
       "    </tr>\n",
       "    <tr>\n",
       "      <th>2017-11-01</th>\n",
       "      <td>78002</td>\n",
       "      <td>880.0</td>\n",
       "    </tr>\n",
       "    <tr>\n",
       "      <th>2017-12-01</th>\n",
       "      <td>78002</td>\n",
       "      <td>880.0</td>\n",
       "    </tr>\n",
       "    <tr>\n",
       "      <th>2018-01-01</th>\n",
       "      <td>78002</td>\n",
       "      <td>880.0</td>\n",
       "    </tr>\n",
       "    <tr>\n",
       "      <th>2018-02-01</th>\n",
       "      <td>78002</td>\n",
       "      <td>880.0</td>\n",
       "    </tr>\n",
       "    <tr>\n",
       "      <th>...</th>\n",
       "      <td>...</td>\n",
       "      <td>...</td>\n",
       "    </tr>\n",
       "    <tr>\n",
       "      <th>2023-06-01</th>\n",
       "      <td>78285</td>\n",
       "      <td>1270.0</td>\n",
       "    </tr>\n",
       "    <tr>\n",
       "      <th>2023-07-01</th>\n",
       "      <td>78285</td>\n",
       "      <td>1270.0</td>\n",
       "    </tr>\n",
       "    <tr>\n",
       "      <th>2023-08-01</th>\n",
       "      <td>78285</td>\n",
       "      <td>1270.0</td>\n",
       "    </tr>\n",
       "    <tr>\n",
       "      <th>2023-09-01</th>\n",
       "      <td>78285</td>\n",
       "      <td>1270.0</td>\n",
       "    </tr>\n",
       "    <tr>\n",
       "      <th>2023-10-01</th>\n",
       "      <td>78285</td>\n",
       "      <td>NaN</td>\n",
       "    </tr>\n",
       "  </tbody>\n",
       "</table>\n",
       "<p>9990 rows × 2 columns</p>\n",
       "</div>"
      ],
      "text/plain": [
       "            zip_code  two_bed_fmr\n",
       "date                             \n",
       "2017-10-01     78002        880.0\n",
       "2017-11-01     78002        880.0\n",
       "2017-12-01     78002        880.0\n",
       "2018-01-01     78002        880.0\n",
       "2018-02-01     78002        880.0\n",
       "...              ...          ...\n",
       "2023-06-01     78285       1270.0\n",
       "2023-07-01     78285       1270.0\n",
       "2023-08-01     78285       1270.0\n",
       "2023-09-01     78285       1270.0\n",
       "2023-10-01     78285          NaN\n",
       "\n",
       "[9990 rows x 2 columns]"
      ]
     },
     "execution_count": 14,
     "metadata": {},
     "output_type": "execute_result"
    }
   ],
   "source": [
    "df_hud"
   ]
  },
  {
   "cell_type": "code",
   "execution_count": 15,
   "id": "e6560845-1308-41d7-83d6-e8309bda683b",
   "metadata": {},
   "outputs": [
    {
     "name": "stdout",
     "output_type": "stream",
     "text": [
      "<class 'pandas.core.frame.DataFrame'>\n",
      "Index: 9990 entries, 2017-10-01 to 2023-10-01\n",
      "Data columns (total 2 columns):\n",
      " #   Column       Non-Null Count  Dtype  \n",
      "---  ------       --------------  -----  \n",
      " 0   zip_code     9990 non-null   int64  \n",
      " 1   two_bed_fmr  9852 non-null   float64\n",
      "dtypes: float64(1), int64(1)\n",
      "memory usage: 234.1+ KB\n"
     ]
    }
   ],
   "source": [
    "df_hud.info()"
   ]
  },
  {
   "cell_type": "code",
   "execution_count": 16,
   "id": "a9b371ba-30c5-43ce-b72b-58aed4af80b1",
   "metadata": {},
   "outputs": [
    {
     "data": {
      "text/plain": [
       "2020-10-01    138\n",
       "2020-11-01    138\n",
       "2022-03-01    138\n",
       "2022-02-01    138\n",
       "2022-01-01    138\n",
       "             ... \n",
       "2018-06-01    135\n",
       "2018-07-01    135\n",
       "2018-08-01    135\n",
       "2018-09-01    135\n",
       "2017-10-01    135\n",
       "Name: date, Length: 73, dtype: int64"
      ]
     },
     "execution_count": 16,
     "metadata": {},
     "output_type": "execute_result"
    }
   ],
   "source": [
    "df_hud.index.value_counts()"
   ]
  },
  {
   "cell_type": "code",
   "execution_count": 17,
   "id": "2b0afc16-31a9-4a24-8bf1-551a95202e9d",
   "metadata": {},
   "outputs": [
    {
     "data": {
      "text/html": [
       "<div>\n",
       "<style scoped>\n",
       "    .dataframe tbody tr th:only-of-type {\n",
       "        vertical-align: middle;\n",
       "    }\n",
       "\n",
       "    .dataframe tbody tr th {\n",
       "        vertical-align: top;\n",
       "    }\n",
       "\n",
       "    .dataframe thead th {\n",
       "        text-align: right;\n",
       "    }\n",
       "</style>\n",
       "<table border=\"1\" class=\"dataframe\">\n",
       "  <thead>\n",
       "    <tr style=\"text-align: right;\">\n",
       "      <th></th>\n",
       "      <th>zip_code</th>\n",
       "      <th>two_bed_fmr</th>\n",
       "    </tr>\n",
       "    <tr>\n",
       "      <th>date</th>\n",
       "      <th></th>\n",
       "      <th></th>\n",
       "    </tr>\n",
       "  </thead>\n",
       "  <tbody>\n",
       "  </tbody>\n",
       "</table>\n",
       "</div>"
      ],
      "text/plain": [
       "Empty DataFrame\n",
       "Columns: [zip_code, two_bed_fmr]\n",
       "Index: []"
      ]
     },
     "execution_count": 17,
     "metadata": {},
     "output_type": "execute_result"
    }
   ],
   "source": [
    "df_hud[df_hud.zip_code == '78285']"
   ]
  },
  {
   "cell_type": "code",
   "execution_count": 18,
   "id": "66b3dfbf-1e2b-42eb-a957-57c5022f35b8",
   "metadata": {},
   "outputs": [
    {
     "data": {
      "text/html": [
       "<div>\n",
       "<style scoped>\n",
       "    .dataframe tbody tr th:only-of-type {\n",
       "        vertical-align: middle;\n",
       "    }\n",
       "\n",
       "    .dataframe tbody tr th {\n",
       "        vertical-align: top;\n",
       "    }\n",
       "\n",
       "    .dataframe thead th {\n",
       "        text-align: right;\n",
       "    }\n",
       "</style>\n",
       "<table border=\"1\" class=\"dataframe\">\n",
       "  <thead>\n",
       "    <tr style=\"text-align: right;\">\n",
       "      <th></th>\n",
       "      <th>zip_code</th>\n",
       "      <th>two_bed_fmr</th>\n",
       "    </tr>\n",
       "    <tr>\n",
       "      <th>date</th>\n",
       "      <th></th>\n",
       "      <th></th>\n",
       "    </tr>\n",
       "  </thead>\n",
       "  <tbody>\n",
       "    <tr>\n",
       "      <th>2017-10-01</th>\n",
       "      <td>78002</td>\n",
       "      <td>880.0</td>\n",
       "    </tr>\n",
       "    <tr>\n",
       "      <th>2017-11-01</th>\n",
       "      <td>78002</td>\n",
       "      <td>880.0</td>\n",
       "    </tr>\n",
       "    <tr>\n",
       "      <th>2017-12-01</th>\n",
       "      <td>78002</td>\n",
       "      <td>880.0</td>\n",
       "    </tr>\n",
       "    <tr>\n",
       "      <th>2018-01-01</th>\n",
       "      <td>78002</td>\n",
       "      <td>880.0</td>\n",
       "    </tr>\n",
       "    <tr>\n",
       "      <th>2018-02-01</th>\n",
       "      <td>78002</td>\n",
       "      <td>880.0</td>\n",
       "    </tr>\n",
       "  </tbody>\n",
       "</table>\n",
       "</div>"
      ],
      "text/plain": [
       "            zip_code  two_bed_fmr\n",
       "date                             \n",
       "2017-10-01     78002        880.0\n",
       "2017-11-01     78002        880.0\n",
       "2017-12-01     78002        880.0\n",
       "2018-01-01     78002        880.0\n",
       "2018-02-01     78002        880.0"
      ]
     },
     "execution_count": 18,
     "metadata": {},
     "output_type": "execute_result"
    }
   ],
   "source": [
    "df_hud.head()"
   ]
  },
  {
   "cell_type": "code",
   "execution_count": 19,
   "id": "57e5d8f5-4473-44bf-9e03-f1bfec205f54",
   "metadata": {},
   "outputs": [
    {
     "data": {
      "text/html": [
       "<div>\n",
       "<style scoped>\n",
       "    .dataframe tbody tr th:only-of-type {\n",
       "        vertical-align: middle;\n",
       "    }\n",
       "\n",
       "    .dataframe tbody tr th {\n",
       "        vertical-align: top;\n",
       "    }\n",
       "\n",
       "    .dataframe thead th {\n",
       "        text-align: right;\n",
       "    }\n",
       "</style>\n",
       "<table border=\"1\" class=\"dataframe\">\n",
       "  <thead>\n",
       "    <tr style=\"text-align: right;\">\n",
       "      <th></th>\n",
       "      <th>zip_code</th>\n",
       "      <th>two_bed_fmr</th>\n",
       "    </tr>\n",
       "    <tr>\n",
       "      <th>date</th>\n",
       "      <th></th>\n",
       "      <th></th>\n",
       "    </tr>\n",
       "  </thead>\n",
       "  <tbody>\n",
       "    <tr>\n",
       "      <th>2023-06-01</th>\n",
       "      <td>78285</td>\n",
       "      <td>1270.0</td>\n",
       "    </tr>\n",
       "    <tr>\n",
       "      <th>2023-07-01</th>\n",
       "      <td>78285</td>\n",
       "      <td>1270.0</td>\n",
       "    </tr>\n",
       "    <tr>\n",
       "      <th>2023-08-01</th>\n",
       "      <td>78285</td>\n",
       "      <td>1270.0</td>\n",
       "    </tr>\n",
       "    <tr>\n",
       "      <th>2023-09-01</th>\n",
       "      <td>78285</td>\n",
       "      <td>1270.0</td>\n",
       "    </tr>\n",
       "    <tr>\n",
       "      <th>2023-10-01</th>\n",
       "      <td>78285</td>\n",
       "      <td>NaN</td>\n",
       "    </tr>\n",
       "  </tbody>\n",
       "</table>\n",
       "</div>"
      ],
      "text/plain": [
       "            zip_code  two_bed_fmr\n",
       "date                             \n",
       "2023-06-01     78285       1270.0\n",
       "2023-07-01     78285       1270.0\n",
       "2023-08-01     78285       1270.0\n",
       "2023-09-01     78285       1270.0\n",
       "2023-10-01     78285          NaN"
      ]
     },
     "execution_count": 19,
     "metadata": {},
     "output_type": "execute_result"
    }
   ],
   "source": [
    "df_hud.tail()"
   ]
  },
  {
   "cell_type": "code",
   "execution_count": 20,
   "id": "1e80bb42-7ad7-4e4d-bc75-6c6f1568bd3b",
   "metadata": {},
   "outputs": [],
   "source": [
    "# # ok, I need to clean this up. keep just the Two-Bedroom col as two_bed_fmr\n",
    "# # and year, entity_id, and area_name\n",
    "# df_hud = df_hud.rename(columns={'Two-Bedroom' : 'two_bed_fmr'})\n",
    "# df_hud = df_hud[['zip_code', 'two_bed_fmr', 'year', 'entity_id', 'area_name']]\n",
    "# df_hud['date'] = pd.to_datetime(df_hud.year)\n",
    "# df_hud.set_index('date', inplace=True)\n",
    "# # shift the fmr rates backwards by three months to reflect federal fiscal year\n",
    "# df_hud = df_hud.resample('M').ffill().shift(periods=-3, freq='M')"
   ]
  },
  {
   "cell_type": "code",
   "execution_count": 22,
   "id": "4c2978e8-4d7b-4b5f-a927-4111b9d3a6a2",
   "metadata": {},
   "outputs": [],
   "source": [
    "# Perform an inner join on 'date' and 'zip_code'\n",
    "# df = df_rapid.merge(df_hud, how='inner', on=['date', 'zip_code'])"
   ]
  },
  {
   "cell_type": "code",
   "execution_count": null,
   "id": "4fc9a134-7617-4a00-9a77-cef31a35c6b1",
   "metadata": {},
   "outputs": [],
   "source": []
  },
  {
   "cell_type": "code",
   "execution_count": null,
   "id": "87f9eac5-255f-4c29-a74d-72717ed049d2",
   "metadata": {},
   "outputs": [],
   "source": []
  }
 ],
 "metadata": {
  "kernelspec": {
   "display_name": "Python 3 (ipykernel)",
   "language": "python",
   "name": "python3"
  },
  "language_info": {
   "codemirror_mode": {
    "name": "ipython",
    "version": 3
   },
   "file_extension": ".py",
   "mimetype": "text/x-python",
   "name": "python",
   "nbconvert_exporter": "python",
   "pygments_lexer": "ipython3",
   "version": "3.9.13"
  }
 },
 "nbformat": 4,
 "nbformat_minor": 5
}
