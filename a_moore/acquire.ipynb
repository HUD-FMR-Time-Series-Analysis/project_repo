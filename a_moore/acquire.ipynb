{
 "cells": [
  {
   "cell_type": "code",
   "execution_count": 1,
   "id": "489ec3ca",
   "metadata": {},
   "outputs": [],
   "source": [
    "import re\n",
    "import requests\n",
    "import pandas as pd\n",
    "from env import hud_token"
   ]
  },
  {
   "cell_type": "code",
   "execution_count": 3,
   "id": "3b4e46f3",
   "metadata": {},
   "outputs": [],
   "source": [
    "# getting root url\n",
    "url = 'https://www.huduser.gov/hudapi/public/fmr/listMetroAreas'\n",
    "\n",
    "header = {'Authorization': f'Bearer {hud_token}'}\n",
    "\n",
    "response = requests.get(url, headers=header)\n",
    "\n",
    "data = response.json()"
   ]
  },
  {
   "cell_type": "code",
   "execution_count": null,
   "id": "7fccb4b9",
   "metadata": {},
   "outputs": [],
   "source": [
    "df = pd.DataFrame(data)"
   ]
  },
  {
   "cell_type": "code",
   "execution_count": null,
   "id": "3a4de540",
   "metadata": {},
   "outputs": [],
   "source": [
    "df[df['area_name'].str.startswith('San Antonio') == True]"
   ]
  },
  {
   "cell_type": "code",
   "execution_count": null,
   "id": "bf6a2e96",
   "metadata": {},
   "outputs": [],
   "source": [
    "# getting entity_id\n",
    "entity_id = 'METRO41700M41700'"
   ]
  },
  {
   "cell_type": "code",
   "execution_count": null,
   "id": "c7ef9064",
   "metadata": {},
   "outputs": [],
   "source": [
    "url = f'https://www.huduser.gov/hudapi/public/fmr/data/{entity_id}'\n",
    "response = requests.get(url, headers=header)\n",
    "data = response.json()"
   ]
  },
  {
   "cell_type": "code",
   "execution_count": null,
   "id": "1f6c63b4",
   "metadata": {},
   "outputs": [],
   "source": [
    "data['data']['year']"
   ]
  },
  {
   "cell_type": "code",
   "execution_count": null,
   "id": "45e166e9",
   "metadata": {},
   "outputs": [],
   "source": [
    "df = pd.DataFrame(data['data']['basicdata'])"
   ]
  },
  {
   "cell_type": "code",
   "execution_count": null,
   "id": "eb481652",
   "metadata": {},
   "outputs": [],
   "source": [
    "# adding year\n",
    "df['year'] = data['data']['year']"
   ]
  },
  {
   "cell_type": "code",
   "execution_count": null,
   "id": "f26a59d7",
   "metadata": {},
   "outputs": [],
   "source": [
    "df"
   ]
  },
  {
   "cell_type": "code",
   "execution_count": null,
   "id": "2a9aef0c",
   "metadata": {},
   "outputs": [],
   "source": [
    "years = ['2022', '2021', '2020', '2019', '2018', '2017', '2016', '2015', '2014', '2013', '2012', '2011', '2010' ]\n",
    "\n",
    "for year in years:\n",
    "    url = f'https://www.huduser.gov/hudapi/public/fmr/data/{entity_id}?year={year}'\n",
    "    response = requests.get(url, headers=header)\n",
    "    print(year, response)\n",
    "\n",
    "# no data available for the metro area"
   ]
  },
  {
   "cell_type": "markdown",
   "id": "22c4e846",
   "metadata": {},
   "source": [
    "#### Takeaways:\n",
    "* The data is not avaiable until 2017\n",
    "\n",
    "#### Actions:\n",
    "* Make a for loop that creates a dummy df and adds the information from the newly acquired data to it \n",
    "\n",
    "#### Later inspection\n",
    "* What is the reason for this? Was the zipcode data not available? Why is this the case? Will this impact our results?\n"
   ]
  },
  {
   "cell_type": "code",
   "execution_count": null,
   "id": "fe02150b",
   "metadata": {},
   "outputs": [],
   "source": [
    "years = ['2022', '2021', '2020', '2019', '2018']\n",
    "\n",
    "for year in years:\n",
    "    url = f'https://www.huduser.gov/hudapi/public/fmr/data/{entity_id}?year={year}'\n",
    "    response = requests.get(url, headers=header)\n",
    "    data = response.json()\n",
    "    dum = pd.DataFrame(data['data']['basicdata'])\n",
    "    dum['year'] = data['data']['year']\n",
    "    df = pd.concat([df, dum])\n",
    "    \n",
    "df"
   ]
  },
  {
   "cell_type": "markdown",
   "id": "3fb3aa34",
   "metadata": {},
   "source": [
    "##### Takeaways:\n",
    "* We wonly get data from 2018 and onward due to data challenges with zipcodes not being present\n",
    "* Once again, this needs to investigated but in the future"
   ]
  },
  {
   "cell_type": "code",
   "execution_count": 49,
   "id": "029b90df",
   "metadata": {},
   "outputs": [
    {
     "data": {
      "text/html": [
       "<div>\n",
       "<style scoped>\n",
       "    .dataframe tbody tr th:only-of-type {\n",
       "        vertical-align: middle;\n",
       "    }\n",
       "\n",
       "    .dataframe tbody tr th {\n",
       "        vertical-align: top;\n",
       "    }\n",
       "\n",
       "    .dataframe thead th {\n",
       "        text-align: right;\n",
       "    }\n",
       "</style>\n",
       "<table border=\"1\" class=\"dataframe\">\n",
       "  <thead>\n",
       "    <tr style=\"text-align: right;\">\n",
       "      <th></th>\n",
       "      <th>zip_code</th>\n",
       "      <th>Efficiency</th>\n",
       "      <th>One-Bedroom</th>\n",
       "      <th>Two-Bedroom</th>\n",
       "      <th>Three-Bedroom</th>\n",
       "      <th>Four-Bedroom</th>\n",
       "      <th>year</th>\n",
       "    </tr>\n",
       "  </thead>\n",
       "  <tbody>\n",
       "    <tr>\n",
       "      <th>0</th>\n",
       "      <td>78002</td>\n",
       "      <td>760</td>\n",
       "      <td>870</td>\n",
       "      <td>1060</td>\n",
       "      <td>1350</td>\n",
       "      <td>1640</td>\n",
       "      <td>2023</td>\n",
       "    </tr>\n",
       "    <tr>\n",
       "      <th>1</th>\n",
       "      <td>78003</td>\n",
       "      <td>790</td>\n",
       "      <td>910</td>\n",
       "      <td>1110</td>\n",
       "      <td>1410</td>\n",
       "      <td>1710</td>\n",
       "      <td>2023</td>\n",
       "    </tr>\n",
       "    <tr>\n",
       "      <th>2</th>\n",
       "      <td>78006</td>\n",
       "      <td>1030</td>\n",
       "      <td>1240</td>\n",
       "      <td>1530</td>\n",
       "      <td>1870</td>\n",
       "      <td>2340</td>\n",
       "      <td>2023</td>\n",
       "    </tr>\n",
       "    <tr>\n",
       "      <th>3</th>\n",
       "      <td>78009</td>\n",
       "      <td>840</td>\n",
       "      <td>890</td>\n",
       "      <td>1170</td>\n",
       "      <td>1530</td>\n",
       "      <td>1570</td>\n",
       "      <td>2023</td>\n",
       "    </tr>\n",
       "    <tr>\n",
       "      <th>4</th>\n",
       "      <td>78010</td>\n",
       "      <td>790</td>\n",
       "      <td>910</td>\n",
       "      <td>1100</td>\n",
       "      <td>1400</td>\n",
       "      <td>1710</td>\n",
       "      <td>2023</td>\n",
       "    </tr>\n",
       "    <tr>\n",
       "      <th>...</th>\n",
       "      <td>...</td>\n",
       "      <td>...</td>\n",
       "      <td>...</td>\n",
       "      <td>...</td>\n",
       "      <td>...</td>\n",
       "      <td>...</td>\n",
       "      <td>...</td>\n",
       "    </tr>\n",
       "    <tr>\n",
       "      <th>130</th>\n",
       "      <td>78676</td>\n",
       "      <td>800</td>\n",
       "      <td>950</td>\n",
       "      <td>1160</td>\n",
       "      <td>1560</td>\n",
       "      <td>1880</td>\n",
       "      <td>2018</td>\n",
       "    </tr>\n",
       "    <tr>\n",
       "      <th>131</th>\n",
       "      <td>78850</td>\n",
       "      <td>560</td>\n",
       "      <td>690</td>\n",
       "      <td>870</td>\n",
       "      <td>1150</td>\n",
       "      <td>1380</td>\n",
       "      <td>2018</td>\n",
       "    </tr>\n",
       "    <tr>\n",
       "      <th>132</th>\n",
       "      <td>78883</td>\n",
       "      <td>610</td>\n",
       "      <td>760</td>\n",
       "      <td>950</td>\n",
       "      <td>1250</td>\n",
       "      <td>1520</td>\n",
       "      <td>2018</td>\n",
       "    </tr>\n",
       "    <tr>\n",
       "      <th>133</th>\n",
       "      <td>78884</td>\n",
       "      <td>560</td>\n",
       "      <td>690</td>\n",
       "      <td>870</td>\n",
       "      <td>1150</td>\n",
       "      <td>1380</td>\n",
       "      <td>2018</td>\n",
       "    </tr>\n",
       "    <tr>\n",
       "      <th>134</th>\n",
       "      <td>78885</td>\n",
       "      <td>610</td>\n",
       "      <td>750</td>\n",
       "      <td>940</td>\n",
       "      <td>1240</td>\n",
       "      <td>1500</td>\n",
       "      <td>2018</td>\n",
       "    </tr>\n",
       "  </tbody>\n",
       "</table>\n",
       "<p>812 rows × 7 columns</p>\n",
       "</div>"
      ],
      "text/plain": [
       "    zip_code  Efficiency  One-Bedroom  Two-Bedroom  Three-Bedroom  \\\n",
       "0      78002         760          870         1060           1350   \n",
       "1      78003         790          910         1110           1410   \n",
       "2      78006        1030         1240         1530           1870   \n",
       "3      78009         840          890         1170           1530   \n",
       "4      78010         790          910         1100           1400   \n",
       "..       ...         ...          ...          ...            ...   \n",
       "130    78676         800          950         1160           1560   \n",
       "131    78850         560          690          870           1150   \n",
       "132    78883         610          760          950           1250   \n",
       "133    78884         560          690          870           1150   \n",
       "134    78885         610          750          940           1240   \n",
       "\n",
       "     Four-Bedroom  year  \n",
       "0            1640  2023  \n",
       "1            1710  2023  \n",
       "2            2340  2023  \n",
       "3            1570  2023  \n",
       "4            1710  2023  \n",
       "..            ...   ...  \n",
       "130          1880  2018  \n",
       "131          1380  2018  \n",
       "132          1520  2018  \n",
       "133          1380  2018  \n",
       "134          1500  2018  \n",
       "\n",
       "[812 rows x 7 columns]"
      ]
     },
     "execution_count": 49,
     "metadata": {},
     "output_type": "execute_result"
    }
   ],
   "source": [
    "# basic requirements\n",
    "entity_id = 'METRO41700M41700'\n",
    "header = {'Authorization': f'Bearer {hud_token}'}\n",
    "\n",
    "# accessing api\n",
    "url = f'https://www.huduser.gov/hudapi/public/fmr/data/{entity_id}'\n",
    "response = requests.get(url, headers=header)\n",
    "data = response.json()\n",
    "\n",
    "# getting initial df\n",
    "df = pd.DataFrame()\n",
    "\n",
    "# establishing years to pull\n",
    "years = ['2023', '2022', '2021', '2020', '2019', '2018']\n",
    "\n",
    "# For loop to access data from each year and concat onto the initial df\n",
    "for year in years:\n",
    "    url = f'https://www.huduser.gov/hudapi/public/fmr/data/{entity_id}?year={year}'\n",
    "    response = requests.get(url, headers=header)\n",
    "    data = response.json()\n",
    "    dum = pd.DataFrame(data['data']['basicdata'])\n",
    "    dum['year'] = data['data']['year']\n",
    "    df = pd.concat([df, dum])\n",
    "    \n",
    "df"
   ]
  },
  {
   "cell_type": "code",
   "execution_count": 15,
   "id": "217437e8",
   "metadata": {},
   "outputs": [],
   "source": [
    "zip_codes = df['zip_code'].unique()"
   ]
  },
  {
   "cell_type": "markdown",
   "id": "b9ccea82",
   "metadata": {},
   "source": [
    "# Zillow API"
   ]
  },
  {
   "cell_type": "code",
   "execution_count": 26,
   "id": "3d39d7b2",
   "metadata": {},
   "outputs": [],
   "source": [
    "url = \"https://zillow56.p.rapidapi.com/search\"\n",
    "\n",
    "querystring = {\"location\":\"78002\"}\n",
    "\n",
    "headers = {\n",
    "\t\"X-RapidAPI-Key\": \"114e895469msh94a2c2aa405c447p161c7ejsn7b09da3c1151\",\n",
    "\t\"X-RapidAPI-Host\": \"zillow56.p.rapidapi.com\"\n",
    "}"
   ]
  },
  {
   "cell_type": "code",
   "execution_count": 27,
   "id": "f3e30bba",
   "metadata": {},
   "outputs": [],
   "source": [
    "response = requests.get(url, headers=headers, params=querystring)\n",
    "data = response.json()"
   ]
  },
  {
   "cell_type": "code",
   "execution_count": 30,
   "id": "ee2df7f1",
   "metadata": {},
   "outputs": [
    {
     "data": {
      "text/plain": [
       "{'message': 'You have exceeded the MONTHLY quota for Requests on your current plan, BASIC. Upgrade your plan at https://rapidapi.com/s.mahmoud97/api/zillow56'}"
      ]
     },
     "execution_count": 30,
     "metadata": {},
     "output_type": "execute_result"
    }
   ],
   "source": [
    "data"
   ]
  },
  {
   "cell_type": "code",
   "execution_count": 24,
   "id": "55a9ae3f",
   "metadata": {},
   "outputs": [
    {
     "ename": "KeyError",
     "evalue": "'results'",
     "output_type": "error",
     "traceback": [
      "\u001b[0;31m---------------------------------------------------------------------------\u001b[0m",
      "\u001b[0;31mKeyError\u001b[0m                                  Traceback (most recent call last)",
      "Input \u001b[0;32mIn [24]\u001b[0m, in \u001b[0;36m<cell line: 1>\u001b[0;34m()\u001b[0m\n\u001b[0;32m----> 1\u001b[0m pd\u001b[38;5;241m.\u001b[39mDataFrame(\u001b[43mdata\u001b[49m\u001b[43m[\u001b[49m\u001b[38;5;124;43m'\u001b[39;49m\u001b[38;5;124;43mresults\u001b[39;49m\u001b[38;5;124;43m'\u001b[39;49m\u001b[43m]\u001b[49m)\n",
      "\u001b[0;31mKeyError\u001b[0m: 'results'"
     ]
    }
   ],
   "source": [
    "pd.DataFrame(data['results'])"
   ]
  },
  {
   "cell_type": "code",
   "execution_count": null,
   "id": "a3e1d329",
   "metadata": {},
   "outputs": [],
   "source": [
    "\n",
    "\n",
    "for zip_code in zip_codes:\n",
    "    querystring = {\"location\":f\"{str(zip_code)}\"}\n",
    "    response = requests.get(url, headers=headers, params=querystring)\n",
    "    data = response.json()\n",
    "    print(zip_code, data[totalPages])"
   ]
  },
  {
   "cell_type": "code",
   "execution_count": 12,
   "id": "a4d8af8e",
   "metadata": {},
   "outputs": [],
   "source": [
    "querystring = {\"location\":f\"{}\"}\n",
    "response = requests.get(url, headers=headers, params=querystring)\n",
    "data = response.json()"
   ]
  },
  {
   "cell_type": "markdown",
   "id": "c045f733",
   "metadata": {},
   "source": [
    "Split Zipcodes"
   ]
  },
  {
   "cell_type": "code",
   "execution_count": 47,
   "id": "04bf8c66",
   "metadata": {},
   "outputs": [],
   "source": [
    "corey = zip_codes[:49]\n",
    "mack = zip_codes[49:99]\n",
    "aaron = zip_codes[99:]"
   ]
  },
  {
   "cell_type": "code",
   "execution_count": 48,
   "id": "6ba93f75",
   "metadata": {},
   "outputs": [
    {
     "data": {
      "text/plain": [
       "array(['78258', '78259', '78260', '78261', '78263', '78264', '78265',\n",
       "       '78266', '78268', '78269', '78270', '78278', '78279', '78280',\n",
       "       '78283', '78285', '78288', '78291', '78292', '78293', '78294',\n",
       "       '78295', '78296', '78297', '78298', '78299', '78606', '78623',\n",
       "       '78638', '78648', '78655', '78666', '78670', '78676', '78883',\n",
       "       '78884', '78885', '78117', '78850'], dtype=object)"
      ]
     },
     "execution_count": 48,
     "metadata": {},
     "output_type": "execute_result"
    }
   ],
   "source": [
    "aaron"
   ]
  },
  {
   "cell_type": "code",
   "execution_count": 50,
   "id": "34d57d2d",
   "metadata": {},
   "outputs": [],
   "source": [
    "rapid_api_key = \"114e895469msh94a2c2aa405c447p161c7ejsn7b09da3c1151\"\n",
    "\n",
    "headers = {\n",
    "\t\"X-RapidAPI-Key\": rapid_api_key,\n",
    "\t\"X-RapidAPI-Host\": \"realty-mole-property-api.p.rapidapi.com\"\n",
    "}\n",
    "zipcode = '78258'\n",
    "url = f\"https://realty-mole-property-api.p.rapidapi.com/zipCodes/{zipcode}\"\n",
    "response = requests.get(url, headers=headers)\n",
    "data = response.json()"
   ]
  },
  {
   "cell_type": "code",
   "execution_count": 57,
   "id": "2e17e141",
   "metadata": {},
   "outputs": [
    {
     "data": {
      "text/html": [
       "<div>\n",
       "<style scoped>\n",
       "    .dataframe tbody tr th:only-of-type {\n",
       "        vertical-align: middle;\n",
       "    }\n",
       "\n",
       "    .dataframe tbody tr th {\n",
       "        vertical-align: top;\n",
       "    }\n",
       "\n",
       "    .dataframe thead th {\n",
       "        text-align: right;\n",
       "    }\n",
       "</style>\n",
       "<table border=\"1\" class=\"dataframe\">\n",
       "  <thead>\n",
       "    <tr style=\"text-align: right;\">\n",
       "      <th></th>\n",
       "      <th>id</th>\n",
       "      <th>zipCode</th>\n",
       "      <th>rentalData</th>\n",
       "    </tr>\n",
       "  </thead>\n",
       "  <tbody>\n",
       "    <tr>\n",
       "      <th>averageRent</th>\n",
       "      <td>78258</td>\n",
       "      <td>78258</td>\n",
       "      <td>2761</td>\n",
       "    </tr>\n",
       "    <tr>\n",
       "      <th>detailed</th>\n",
       "      <td>78258</td>\n",
       "      <td>78258</td>\n",
       "      <td>[{'bedrooms': 1, 'averageRent': 1366, 'minRent...</td>\n",
       "    </tr>\n",
       "    <tr>\n",
       "      <th>history</th>\n",
       "      <td>78258</td>\n",
       "      <td>78258</td>\n",
       "      <td>{'2020-04': {'averageRent': 1788.12, 'minRent'...</td>\n",
       "    </tr>\n",
       "    <tr>\n",
       "      <th>maxRent</th>\n",
       "      <td>78258</td>\n",
       "      <td>78258</td>\n",
       "      <td>8750</td>\n",
       "    </tr>\n",
       "    <tr>\n",
       "      <th>minRent</th>\n",
       "      <td>78258</td>\n",
       "      <td>78258</td>\n",
       "      <td>956</td>\n",
       "    </tr>\n",
       "  </tbody>\n",
       "</table>\n",
       "</div>"
      ],
      "text/plain": [
       "                id zipCode                                         rentalData\n",
       "averageRent  78258   78258                                               2761\n",
       "detailed     78258   78258  [{'bedrooms': 1, 'averageRent': 1366, 'minRent...\n",
       "history      78258   78258  {'2020-04': {'averageRent': 1788.12, 'minRent'...\n",
       "maxRent      78258   78258                                               8750\n",
       "minRent      78258   78258                                                956"
      ]
     },
     "execution_count": 57,
     "metadata": {},
     "output_type": "execute_result"
    }
   ],
   "source": [
    "df = pd.DataFrame()\n",
    "dum = pd.DataFrame(data)\n",
    "dum.head()"
   ]
  },
  {
   "cell_type": "code",
   "execution_count": 65,
   "id": "b8e71245",
   "metadata": {},
   "outputs": [
    {
     "data": {
      "text/html": [
       "<div>\n",
       "<style scoped>\n",
       "    .dataframe tbody tr th:only-of-type {\n",
       "        vertical-align: middle;\n",
       "    }\n",
       "\n",
       "    .dataframe tbody tr th {\n",
       "        vertical-align: top;\n",
       "    }\n",
       "\n",
       "    .dataframe thead th {\n",
       "        text-align: right;\n",
       "    }\n",
       "</style>\n",
       "<table border=\"1\" class=\"dataframe\">\n",
       "  <thead>\n",
       "    <tr style=\"text-align: right;\">\n",
       "      <th></th>\n",
       "      <th>bedrooms</th>\n",
       "      <th>averageRent</th>\n",
       "      <th>minRent</th>\n",
       "      <th>maxRent</th>\n",
       "      <th>totalRentals</th>\n",
       "    </tr>\n",
       "  </thead>\n",
       "  <tbody>\n",
       "    <tr>\n",
       "      <th>0</th>\n",
       "      <td>1</td>\n",
       "      <td>1366</td>\n",
       "      <td>956</td>\n",
       "      <td>1920</td>\n",
       "      <td>13</td>\n",
       "    </tr>\n",
       "    <tr>\n",
       "      <th>1</th>\n",
       "      <td>2</td>\n",
       "      <td>1391</td>\n",
       "      <td>1135</td>\n",
       "      <td>1550</td>\n",
       "      <td>3</td>\n",
       "    </tr>\n",
       "    <tr>\n",
       "      <th>2</th>\n",
       "      <td>3</td>\n",
       "      <td>2475</td>\n",
       "      <td>1707</td>\n",
       "      <td>4750</td>\n",
       "      <td>62</td>\n",
       "    </tr>\n",
       "    <tr>\n",
       "      <th>3</th>\n",
       "      <td>4</td>\n",
       "      <td>2998</td>\n",
       "      <td>2000</td>\n",
       "      <td>6000</td>\n",
       "      <td>83</td>\n",
       "    </tr>\n",
       "    <tr>\n",
       "      <th>4</th>\n",
       "      <td>5</td>\n",
       "      <td>3470</td>\n",
       "      <td>2850</td>\n",
       "      <td>5000</td>\n",
       "      <td>17</td>\n",
       "    </tr>\n",
       "    <tr>\n",
       "      <th>5</th>\n",
       "      <td>6</td>\n",
       "      <td>6875</td>\n",
       "      <td>5000</td>\n",
       "      <td>8750</td>\n",
       "      <td>2</td>\n",
       "    </tr>\n",
       "  </tbody>\n",
       "</table>\n",
       "</div>"
      ],
      "text/plain": [
       "   bedrooms  averageRent  minRent  maxRent  totalRentals\n",
       "0         1         1366      956     1920            13\n",
       "1         2         1391     1135     1550             3\n",
       "2         3         2475     1707     4750            62\n",
       "3         4         2998     2000     6000            83\n",
       "4         5         3470     2850     5000            17\n",
       "5         6         6875     5000     8750             2"
      ]
     },
     "execution_count": 65,
     "metadata": {},
     "output_type": "execute_result"
    }
   ],
   "source": [
    "# The detailed section pulled out\n",
    "pd.DataFrame(dum.loc['detailed', 'rentalData'])"
   ]
  },
  {
   "cell_type": "code",
   "execution_count": 70,
   "id": "627d8feb",
   "metadata": {},
   "outputs": [],
   "source": [
    "history = pd.DataFrame(dum.loc['history', 'rentalData']).T"
   ]
  },
  {
   "cell_type": "code",
   "execution_count": 79,
   "id": "f6f972d9",
   "metadata": {},
   "outputs": [
    {
     "data": {
      "text/plain": [
       "2020-04    [{'bedrooms': 0, 'averageRent': 937.28, 'minRe...\n",
       "2020-05    [{'bedrooms': 0, 'averageRent': 973.12, 'minRe...\n",
       "2020-06    [{'bedrooms': 0, 'averageRent': 980.08, 'minRe...\n",
       "2020-07    [{'bedrooms': 0, 'averageRent': 982.12, 'minRe...\n",
       "2020-08    [{'bedrooms': 0, 'averageRent': 987.68, 'minRe...\n",
       "2020-09    [{'bedrooms': 0, 'averageRent': 1004.74, 'minR...\n",
       "2020-10    [{'bedrooms': 0, 'averageRent': 1004.3, 'minRe...\n",
       "2020-11    [{'bedrooms': 0, 'averageRent': 1007.75, 'minR...\n",
       "2020-12    [{'bedrooms': 0, 'averageRent': 996.48, 'minRe...\n",
       "2021-01    [{'bedrooms': 0, 'averageRent': 996.48, 'minRe...\n",
       "2021-02    [{'bedrooms': 0, 'averageRent': 1002.32, 'minR...\n",
       "2021-03    [{'bedrooms': 0, 'averageRent': 1002.32, 'minR...\n",
       "2021-04    [{'bedrooms': 0, 'averageRent': 1002.32, 'minR...\n",
       "2021-05    [{'bedrooms': 0, 'averageRent': 1012.84, 'minR...\n",
       "2021-06    [{'bedrooms': 0, 'averageRent': 1012.84, 'minR...\n",
       "2021-11    [{'bedrooms': 0, 'averageRent': 2113.16, 'minR...\n",
       "2021-12    [{'bedrooms': 0, 'averageRent': 2519.3, 'minRe...\n",
       "2021-10    [{'bedrooms': 0, 'averageRent': 2752.83, 'minR...\n",
       "2021-09    [{'bedrooms': 0, 'averageRent': 2753.78, 'minR...\n",
       "2021-08    [{'bedrooms': 0, 'averageRent': 2742.48, 'minR...\n",
       "2021-07    [{'bedrooms': 0, 'averageRent': 2742.48, 'minR...\n",
       "2022-01    [{'bedrooms': 0, 'averageRent': 1666.94, 'minR...\n",
       "2022-02    [{'bedrooms': 0, 'averageRent': 1647, 'minRent...\n",
       "2022-03    [{'bedrooms': 0, 'averageRent': 1637.61, 'minR...\n",
       "2022-04    [{'bedrooms': 0, 'averageRent': 2190.8, 'minRe...\n",
       "2022-05    [{'bedrooms': 0, 'averageRent': 2238.3, 'minRe...\n",
       "2022-06    [{'bedrooms': 0, 'averageRent': 2173.8, 'minRe...\n",
       "2022-07    [{'bedrooms': 0, 'averageRent': 2232.67, 'minR...\n",
       "2022-08    [{'bedrooms': 0, 'averageRent': 1969.3, 'minRe...\n",
       "2022-09    [{'bedrooms': 0, 'averageRent': 1969.3, 'minRe...\n",
       "2022-10    [{'bedrooms': 0, 'averageRent': 1969.3, 'minRe...\n",
       "2022-11    [{'bedrooms': 0, 'averageRent': 1253.59, 'minR...\n",
       "2022-12    [{'bedrooms': 0, 'averageRent': 1253.59, 'minR...\n",
       "2023-01    [{'bedrooms': 0, 'averageRent': 1254, 'minRent...\n",
       "2023-02    [{'bedrooms': 0, 'averageRent': 1254, 'minRent...\n",
       "2023-03    [{'bedrooms': 1, 'averageRent': 1649, 'minRent...\n",
       "2023-04    [{'bedrooms': 1, 'averageRent': 1373, 'minRent...\n",
       "2023-05    [{'bedrooms': 1, 'averageRent': 1366, 'minRent...\n",
       "Name: detailed, dtype: object"
      ]
     },
     "execution_count": 79,
     "metadata": {},
     "output_type": "execute_result"
    }
   ],
   "source": [
    "history.loc[:,'detailed']"
   ]
  },
  {
   "cell_type": "code",
   "execution_count": null,
   "id": "4e74053b",
   "metadata": {},
   "outputs": [],
   "source": [
    "df = pd.DataFrame()\n",
    "\n",
    "for zipcode in aaron:\n",
    "    url = f\"https://realty-mole-property-api.p.rapidapi.com/zipCodes/{zipcode}\"\n",
    "    response = requests.get(url, headers=headers)\n",
    "    data = response.json()\n",
    "    dum = pd.DataFrame(data)\n",
    "    df = pd.concat([df, dum])\n",
    "\n",
    "# response = requests.get(url, headers=headers)\n",
    "\n",
    "data = response.json()"
   ]
  },
  {
   "cell_type": "markdown",
   "id": "6f435855",
   "metadata": {},
   "source": [
    "Completed Query"
   ]
  },
  {
   "cell_type": "code",
   "execution_count": null,
   "id": "c5a13aa0",
   "metadata": {},
   "outputs": [],
   "source": [
    "# basic requirements\n",
    "entity_id = 'METRO41700M41700'\n",
    "headers = {'Authorization': f'Bearer {hud_token}'}\n",
    "\n",
    "# accessing api\n",
    "url = f'https://www.huduser.gov/hudapi/public/fmr/data/{entity_id}'\n",
    "response = requests.get(url, headers=header)\n",
    "data = response.json()\n",
    "\n",
    "# getting initial df\n",
    "df = pd.DataFrame()\n",
    "\n",
    "# establishing years to pull\n",
    "years = ['2023', '2022', '2021', '2020', '2019', '2018']\n",
    "\n",
    "# For loop to access data from each year and concat onto the initial df\n",
    "for year in years:\n",
    "    url = f'https://www.huduser.gov/hudapi/public/fmr/data/{entity_id}?year={year}'\n",
    "    response = requests.get(url, headers=header)\n",
    "    data = response.json()\n",
    "    dum = pd.DataFrame(data['data']['basicdata'])\n",
    "    dum['year'] = data['data']['year']\n",
    "    df = pd.concat([df, dum])\n",
    "    \n",
    "df"
   ]
  },
  {
   "cell_type": "markdown",
   "id": "022bbad9",
   "metadata": {},
   "source": [
    "https://rapidapi.com/realtymole/api/realty-mole-property-api"
   ]
  }
 ],
 "metadata": {
  "kernelspec": {
   "display_name": "Python 3 (ipykernel)",
   "language": "python",
   "name": "python3"
  },
  "language_info": {
   "codemirror_mode": {
    "name": "ipython",
    "version": 3
   },
   "file_extension": ".py",
   "mimetype": "text/x-python",
   "name": "python",
   "nbconvert_exporter": "python",
   "pygments_lexer": "ipython3",
   "version": "3.9.13"
  }
 },
 "nbformat": 4,
 "nbformat_minor": 5
}
