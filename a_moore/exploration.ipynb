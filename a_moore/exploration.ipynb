{
 "cells": [
  {
   "cell_type": "code",
   "execution_count": 1,
   "id": "1d3d1316",
   "metadata": {},
   "outputs": [],
   "source": [
    "import numpy as np\n",
    "import pandas as pd\n",
    "import matplotlib.pyplot as plt\n",
    "import seaborn as sns\n",
    "import statsmodels.api as sm\n",
    "import warnings\n",
    "warnings.filterwarnings('ignore')\n",
    "from wrangle import wrangle_data\n"
   ]
  },
  {
   "cell_type": "code",
   "execution_count": 2,
   "id": "59277927",
   "metadata": {},
   "outputs": [],
   "source": [
    "# plotting defaults\n",
    "plt.rc('figure', figsize=(13, 7))\n",
    "plt.style.use('seaborn-whitegrid')\n",
    "plt.rc('font', size=16)"
   ]
  },
  {
   "cell_type": "code",
   "execution_count": 3,
   "id": "1c5e72e7",
   "metadata": {},
   "outputs": [
    {
     "ename": "ValueError",
     "evalue": "too many values to unpack (expected 3)",
     "output_type": "error",
     "traceback": [
      "\u001b[0;31m---------------------------------------------------------------------------\u001b[0m",
      "\u001b[0;31mValueError\u001b[0m                                Traceback (most recent call last)",
      "Input \u001b[0;32mIn [3]\u001b[0m, in \u001b[0;36m<cell line: 2>\u001b[0;34m()\u001b[0m\n\u001b[1;32m      1\u001b[0m \u001b[38;5;66;03m# getting data\u001b[39;00m\n\u001b[0;32m----> 2\u001b[0m df, train, test \u001b[38;5;241m=\u001b[39m wrangle_data()\n",
      "\u001b[0;31mValueError\u001b[0m: too many values to unpack (expected 3)"
     ]
    }
   ],
   "source": [
    "# getting data\n",
    "df, train, test = wrangle_data()"
   ]
  },
  {
   "cell_type": "code",
   "execution_count": null,
   "id": "3cdf3ce4",
   "metadata": {},
   "outputs": [],
   "source": [
    "# resampling for every 6 months\n",
    "train2 = train.resample('6M').mean()\n",
    "df2 = df.resample('6M').mean()"
   ]
  },
  {
   "cell_type": "code",
   "execution_count": null,
   "id": "b0b34dc0",
   "metadata": {},
   "outputs": [],
   "source": [
    "# getting the target as y\n",
    "y = df['diff']\n",
    "y2 = df2['diff']"
   ]
  },
  {
   "cell_type": "code",
   "execution_count": null,
   "id": "bcbb7b07",
   "metadata": {},
   "outputs": [],
   "source": [
    "y.head()"
   ]
  },
  {
   "cell_type": "markdown",
   "id": "b62420b4",
   "metadata": {},
   "source": [
    "## Histogram of our target variable"
   ]
  },
  {
   "cell_type": "code",
   "execution_count": null,
   "id": "7e657e62",
   "metadata": {},
   "outputs": [],
   "source": [
    "y.plot.hist(ec='black')"
   ]
  },
  {
   "cell_type": "markdown",
   "id": "ad04212d",
   "metadata": {},
   "source": [
    "#### Takeaways:\n",
    "* There are often times where the median rental rates are the amount that people cna likely afford\n",
    "\n",
    "\n",
    "#### Questions/Notes:\n",
    "* What are the economic qualificaitons for individuals to get on the vouchers?\n",
    "    * Understanding this will allow us to better understand if people can afford a 150 difference or higher "
   ]
  },
  {
   "cell_type": "markdown",
   "id": "9a395d32",
   "metadata": {},
   "source": [
    "## Average difference by time-period"
   ]
  },
  {
   "cell_type": "code",
   "execution_count": null,
   "id": "34cdce75",
   "metadata": {},
   "outputs": [],
   "source": [
    "ax = y2.groupby(y2.index).mean().plot.bar(width=.9, ec='black')\n",
    "plt.xticks(rotation=90)\n",
    "ax.set(title='Average Differnce by 6 Month Period', xlabel='6-Month-Interval', ylabel='Difference in Price')\n"
   ]
  },
  {
   "cell_type": "code",
   "execution_count": null,
   "id": "4e83ac3b",
   "metadata": {},
   "outputs": [],
   "source": [
    "y"
   ]
  },
  {
   "cell_type": "code",
   "execution_count": null,
   "id": "1d4cef65",
   "metadata": {},
   "outputs": [],
   "source": [
    "# establishing month\n",
    "train['month'] = train.index.month_name()\n",
    "\n",
    "# checking train\n",
    "train\n",
    "\n",
    "# box plot\n",
    "sns.boxplot(data = train, x='month', y='diff')"
   ]
  },
  {
   "cell_type": "markdown",
   "id": "290e13fa",
   "metadata": {},
   "source": [
    "## Visualize the target over time-period"
   ]
  },
  {
   "cell_type": "code",
   "execution_count": null,
   "id": "d0ce23eb",
   "metadata": {},
   "outputs": [],
   "source": [
    "y2.plot(), y.plot()"
   ]
  },
  {
   "cell_type": "markdown",
   "id": "d355cd1e",
   "metadata": {},
   "source": [
    "## Visualize rolling average over time-period"
   ]
  },
  {
   "cell_type": "code",
   "execution_count": null,
   "id": "57956bea",
   "metadata": {},
   "outputs": [],
   "source": [
    "y.resample('6M').mean().plot(title='6 Month average')"
   ]
  },
  {
   "cell_type": "code",
   "execution_count": null,
   "id": "97a74707",
   "metadata": {},
   "outputs": [],
   "source": []
  },
  {
   "cell_type": "markdown",
   "id": "7d231770",
   "metadata": {},
   "source": [
    "## Visualize change over time-period"
   ]
  },
  {
   "cell_type": "code",
   "execution_count": null,
   "id": "247d94b9",
   "metadata": {
    "scrolled": true
   },
   "outputs": [],
   "source": [
    "y.plot(alpha=.2, label='Monthly')\n",
    "y.resample('3M').mean().plot(alpha=.5, label='Quarterly')\n",
    "y.resample('6M').mean().plot(alpha=.8, label='Semiannualy')\n",
    "y.resample('Y').mean().plot(label='Yearly')\n",
    "y.resample('2Y').mean().plot(label='Bi-yearly')\n",
    "plt.legend()\n"
   ]
  },
  {
   "cell_type": "code",
   "execution_count": null,
   "id": "d9bb47d7",
   "metadata": {},
   "outputs": [],
   "source": [
    "y.resample('6M').mean().rolling(1).mean().plot(alpha=.8, label='Semiannualy 1')\n",
    "y.resample('M').mean().rolling(1).mean().plot(alpha=.8, label='Monthly')\n",
    "# y.resample('Y').mean().rolling(1).mean().plot(alpha=.8, label='Yearly')\n",
    "# y.resample('6M').mean().rolling(4).mean().plot(alpha=.8, label='Semiannualy 4')\n",
    "plt.legend()"
   ]
  },
  {
   "cell_type": "markdown",
   "id": "bbde17b9",
   "metadata": {},
   "source": [
    "#### Takeaways:\n",
    "* There has been a clear increased in the difference between the FMR and the MMR with significant increases happening in two sections\n",
    "    * The first - throughout 2018 there was a continual increase that beagin to stabilize in 2019.\n",
    "    * The second, from 2021 to 2022, with signs of possible stabilization around the beginning of 2022, but this cannpt be confirmed.\n",
    "\n",
    "#### Notes/Questions:\n",
    "* I think it will be very useful to examine the zipcode related data. With the zipcode related data, we can possibly created a time series mapo that shows when people can afford certain zipcodes and when people can't affoprd certain zipcodes\n",
    "* It would be nice to have the zipcodes labeled in 3 ways 'Good', 'Fair', 'Poor' based on information in each zipcode. This information will be based on things such as poverty, violence, school ratings, etc. \n",
    "* We also have the total amount of rentals in each zipcode with their price range, we may be able to also determine the percentages/likelihood of individuals being able to move to a certain area based ont he avaialbalility of units\n",
    "* One consideration is whether or not an area accepts the HUD vouchers, there may be places that do. not accept HUD vouchers, which could limit ones aility to even move to a certsin zipcode if the voucher is not accepted\n",
    "    * It may be useful to see if we can find a comprehensve list of places that accept the hud coucher and identify where an individual can move based on the hud accepting areas\n",
    " "
   ]
  },
  {
   "cell_type": "markdown",
   "id": "167431e3",
   "metadata": {},
   "source": [
    "## "
   ]
  },
  {
   "cell_type": "markdown",
   "id": "520753f2",
   "metadata": {},
   "source": [
    "## Visualization to Explore Part 2:"
   ]
  },
  {
   "cell_type": "markdown",
   "id": "d20c0598",
   "metadata": {},
   "source": [
    "### Seasonal plot comparing many of the time-periods"
   ]
  },
  {
   "cell_type": "code",
   "execution_count": null,
   "id": "7392f523",
   "metadata": {},
   "outputs": [],
   "source": [
    "# .unstack turns an index level into columns\n",
    "y2.groupby([y2.index.year, y2.index.month]).mean().unstack(0).plot(title='Seasonal Plot')\n"
   ]
  },
  {
   "cell_type": "code",
   "execution_count": null,
   "id": "3ef5ee6c",
   "metadata": {},
   "outputs": [],
   "source": [
    "# .unstack turns an index level into columns\n",
    "y.groupby([y.index.year, y.index.month]).mean().unstack(0).plot(title='Seasonal Plot')\n"
   ]
  },
  {
   "cell_type": "code",
   "execution_count": null,
   "id": "9f4f1590",
   "metadata": {},
   "outputs": [],
   "source": [
    "table = y.groupby([y.index.year, y.index.month]).mean().unstack(0)\n",
    "\n",
    "fig, axs = plt.subplots(1, 12, sharey=True, sharex=True)\n",
    "for ax, (month, subset) in zip(axs, table.iterrows()):\n",
    "    subset.plot(ax=ax, title=month)\n",
    "    ax.hlines(subset.mean(), *ax.get_xlim())\n",
    "    ax.set(xlabel='')\n",
    "    ax.set_xticklabels([int(thing) for thing in ax.get_xticks()], rotation = 70)\n",
    "\n",
    "fig.suptitle('Seasonal Subseries Plot') # super-title for the overall figure\n",
    "fig.subplots_adjust(wspace=0)\n"
   ]
  },
  {
   "cell_type": "markdown",
   "id": "2a361822",
   "metadata": {},
   "source": [
    "### Lag plots"
   ]
  },
  {
   "cell_type": "code",
   "execution_count": null,
   "id": "b2e9571d",
   "metadata": {},
   "outputs": [],
   "source": [
    "plt.scatter(y, y.shift(-1))\n",
    "plt.xlabel('$y$')\n",
    "plt.ylabel('$y_{t + 1}$')\n",
    "plt.title('Lag plot with lag=1')"
   ]
  },
  {
   "cell_type": "code",
   "execution_count": null,
   "id": "06d4e7e0",
   "metadata": {},
   "outputs": [],
   "source": [
    "train['y(t + 1)'] = train['diff'].shift(-1)\n",
    "ax = train.plot.scatter(x='diff', y='y(t + 1)')\n",
    "ax.set(xlabel='t', ylabel='t + 1')\n"
   ]
  },
  {
   "cell_type": "code",
   "execution_count": null,
   "id": "e15f64b9",
   "metadata": {},
   "outputs": [],
   "source": [
    "semi_annual = train.resample('6M').mean()\n",
    "semi_annual['the_next_semi'] = semi_annual['diff'].shift(-1)\n",
    "semi_annual = semi_annual.rename(columns={'diff': 'this_semi'})\n",
    "semi_annual.plot.scatter(x='this_semi', y='the_next_semi')\n",
    "semi_annual\n"
   ]
  },
  {
   "cell_type": "code",
   "execution_count": null,
   "id": "f095632f",
   "metadata": {},
   "outputs": [],
   "source": [
    "pd.plotting.lag_plot(train['diff'].resample('W').mean(), lag=26)"
   ]
  },
  {
   "cell_type": "markdown",
   "id": "01c57302",
   "metadata": {},
   "source": [
    "##### Takeaways:\n",
    "* There is a 100 dollar difference within the span of 6 months\n",
    "\n",
    "##### Notes/Questions\n",
    "* What are the qualifications to be on the HUD voucher?\n",
    "* How often do individuals move who use the vouchers?"
   ]
  },
  {
   "cell_type": "markdown",
   "id": "36440603",
   "metadata": {},
   "source": [
    "### Autocorrelation"
   ]
  },
  {
   "cell_type": "code",
   "execution_count": null,
   "id": "502c051b",
   "metadata": {},
   "outputs": [],
   "source": [
    "pd.plotting.autocorrelation_plot(train['diff'].resample('6M').mean())"
   ]
  },
  {
   "cell_type": "markdown",
   "id": "63d1cc82",
   "metadata": {},
   "source": [
    "### Seasonal decomposition"
   ]
  },
  {
   "cell_type": "code",
   "execution_count": null,
   "id": "c9e10698",
   "metadata": {},
   "outputs": [],
   "source": [
    "y = train['diff'].resample('6M').mean()\n",
    "\n",
    "result = sm.tsa.seasonal_decompose(y)\n",
    "decomposition = pd.DataFrame({\n",
    "    'y': result.observed,\n",
    "    'trend': result.trend,\n",
    "    'seasonal': result.seasonal,\n",
    "    'resid': result.resid,\n",
    "})\n",
    "decomposition.head()\n"
   ]
  },
  {
   "cell_type": "code",
   "execution_count": null,
   "id": "96f12dba",
   "metadata": {},
   "outputs": [],
   "source": [
    "decomposition.iloc[:, 1:].plot()"
   ]
  },
  {
   "cell_type": "code",
   "execution_count": null,
   "id": "bf0d1c80",
   "metadata": {},
   "outputs": [],
   "source": [
    "# the value returned from seasonal_decompose can itself be plotted:\n",
    "result.plot()\n",
    "None\n"
   ]
  },
  {
   "cell_type": "code",
   "execution_count": null,
   "id": "6830450b",
   "metadata": {},
   "outputs": [],
   "source": [
    "df, train, test = wrangle_data()"
   ]
  },
  {
   "cell_type": "code",
   "execution_count": null,
   "id": "28b12495",
   "metadata": {},
   "outputs": [],
   "source": [
    "diff_shift_1 = df['diff'].shift(1)"
   ]
  },
  {
   "cell_type": "code",
   "execution_count": null,
   "id": "1dc328c0",
   "metadata": {},
   "outputs": [],
   "source": [
    "((round(df['diff'] - diff_shift_1)) / diff_shift_1).cumsum()"
   ]
  },
  {
   "cell_type": "code",
   "execution_count": null,
   "id": "70e84dd9",
   "metadata": {},
   "outputs": [],
   "source": [
    "df['fmr_last_month'] = df['fmr'].shift(1)\n",
    "df['fmr_perc_change'] = ((df['fmr'] - df['fmr_last_month'])/df['fmr'].shift(1))*100\n",
    "\n",
    "df['diff_last_month'] = df['diff'].shift(1)\n",
    "df['diff_perc_change'] = (round((df['diff'] - df['diff_last_month']), 0)/df['diff'].shift(1))*100\n",
    "\n",
    "df['mmr_last_month'] = df['mmr'].shift(1)\n",
    "\n",
    "df['mmr_perc_change'] = ((df['mmr'] - df['mmr_last_month']) / df['mmr'].shift(1) )* 100"
   ]
  },
  {
   "cell_type": "code",
   "execution_count": null,
   "id": "112f03a9",
   "metadata": {},
   "outputs": [],
   "source": [
    "df['mmr_perc_change'].cumsum().plot()\n",
    "df['fmr_perc_change'].cumsum().plot()\n",
    "df['diff_perc_change'].cumsum().plot()"
   ]
  },
  {
   "cell_type": "markdown",
   "id": "04b9ddc9",
   "metadata": {},
   "source": [
    "#### Explore.py "
   ]
  },
  {
   "cell_type": "code",
   "execution_count": null,
   "id": "94e93129",
   "metadata": {},
   "outputs": [],
   "source": [
    "df, train, test = wrangle_data()"
   ]
  },
  {
   "cell_type": "code",
   "execution_count": null,
   "id": "eeff62b0",
   "metadata": {},
   "outputs": [],
   "source": [
    "y = df['diff']"
   ]
  },
  {
   "cell_type": "code",
   "execution_count": null,
   "id": "00c6d218",
   "metadata": {
    "scrolled": true
   },
   "outputs": [],
   "source": [
    "def get_disparity_graph():\n",
    "    '''\n",
    "    This function gets the line graph showing the MMR and FMR cost changes over time\n",
    "    '''\n",
    "    \n",
    "    # plot the mmr and fmr lines\n",
    "    df.mmr.plot(label='Median Market Rent')\n",
    "    df.fmr.plot(label='Fair Market Rent (40%)')\n",
    "    \n",
    "    # get a border on the legend\n",
    "    plt.legend(frameon=True)\n",
    "    \n",
    "    # set the title and axis labels\n",
    "    plt.ylabel('Amount in Dollars')\n",
    "    plt.xlabel('Year')\n",
    "    plt.title('Disparity between MMR and FMR Amounts')\n",
    "    \n",
    "    # show the chart\n",
    "    plt.show()\n",
    "    \n",
    "    return"
   ]
  },
  {
   "cell_type": "code",
   "execution_count": null,
   "id": "2ec88d6b",
   "metadata": {},
   "outputs": [],
   "source": [
    "get_disparity_graph()"
   ]
  },
  {
   "cell_type": "code",
   "execution_count": null,
   "id": "f827d5fa",
   "metadata": {
    "scrolled": false
   },
   "outputs": [],
   "source": [
    "def get_target_hist():\n",
    "    '''\n",
    "    This function gets the distribution of the mmr and fmr difference\n",
    "    '''\n",
    "    # plot the histogram of the target with 25 follar bins\n",
    "    y.plot.hist(ec='black', bins=[0, 25, 50, 75, 100, 125, 150, 175, 200, 225, 250, 275, 300, 325, 350, 375, 400])\n",
    "    \n",
    "    # set the title and axis labels\n",
    "    plt.title('Distribution of the Difference between MMR and FMR')\n",
    "    plt.ylabel('Number of Occurences')\n",
    "    plt.xlabel('Difference of MMR and FMR in Dollars')\n",
    "    \n",
    "    # set the grid lines\n",
    "    plt.grid(axis='x')\n",
    "    \n",
    "    # show the plot\n",
    "    plt.show()\n",
    "    \n",
    "    return"
   ]
  },
  {
   "cell_type": "code",
   "execution_count": null,
   "id": "156dc423",
   "metadata": {},
   "outputs": [],
   "source": [
    "get_target_hist()"
   ]
  },
  {
   "cell_type": "code",
   "execution_count": null,
   "id": "b923dab0",
   "metadata": {},
   "outputs": [],
   "source": [
    "def get_trend_line_plot():\n",
    "    '''\n",
    "    This function gets the line plot of the mmr and fmr difference over three time intervals - monthly, quarterly, and yearly\n",
    "    '''\n",
    "    \n",
    "    # plot the monthly difference \n",
    "    y.plot(alpha=.2, label='Monthly')\n",
    "    \n",
    "    # plot the quarterly difference\n",
    "    y.resample('3M').mean().plot(label='Quarterly')\n",
    "    \n",
    "    # plot the yearly difference\n",
    "    y.resample('Y').mean().plot(alpha = .8, label='Yearly')\n",
    "    \n",
    "    # set the title and labels\n",
    "    plt.title('Trend of MMR and FMR Difference Over Time')\n",
    "    plt.xlabel('Year')\n",
    "    plt.ylabel('Difference of MMR and FMR')\n",
    "    \n",
    "    # change the legend location and give a border\n",
    "    plt.legend(loc='lower right', frameon=True)\n",
    "    \n",
    "    # show the visual\n",
    "    plt.show()\n",
    "    \n",
    "    return"
   ]
  },
  {
   "cell_type": "code",
   "execution_count": null,
   "id": "5640ff69",
   "metadata": {},
   "outputs": [],
   "source": [
    "get_trend_line_plot()"
   ]
  },
  {
   "cell_type": "code",
   "execution_count": null,
   "id": "4129ed0e",
   "metadata": {
    "scrolled": true
   },
   "outputs": [],
   "source": [
    "def get_difference_by_month_bar():\n",
    "    '''\n",
    "    This function gets the bar chart of the average difference between mmr and fmr per month. \n",
    "    \n",
    "    '''\n",
    "    \n",
    "    # assign barechart to ax\n",
    "    ax = y.groupby(y.index.month).mean().plot.bar(width=.9, ec='black')\n",
    "    \n",
    "    # set tick rotation\n",
    "    plt.xticks(rotation=0)\n",
    "    \n",
    "    # set titles and x and y labels\n",
    "    ax.set(title='Average Difference between Median Market Rate(MMR) \\nand Fair Market Rate(FMR) by Month', xlabel='Month', ylabel='Difference between MMR and FMR in Dollars')\n",
    "    \n",
    "    plt.grid(axis='x')\n",
    "    \n",
    "    # show visual\n",
    "    plt.show()\n",
    "    \n",
    "    return"
   ]
  },
  {
   "cell_type": "code",
   "execution_count": null,
   "id": "749d3280",
   "metadata": {},
   "outputs": [],
   "source": [
    "get_difference_by_month_bar()"
   ]
  },
  {
   "cell_type": "code",
   "execution_count": null,
   "id": "8047156a",
   "metadata": {},
   "outputs": [],
   "source": [
    "from wrangle import wrangle_data"
   ]
  },
  {
   "cell_type": "code",
   "execution_count": null,
   "id": "1abff94c",
   "metadata": {},
   "outputs": [],
   "source": [
    "def get_avg_diff_6m():\n",
    "    '''\n",
    "    This function calls a bar chart representing the average difference per 6 month interval from 2017 to now\n",
    "    '''\n",
    "    # get data\n",
    "    df, train, test = wrangle_data()\n",
    "    \n",
    "    # get target\n",
    "    y = df['diff']\n",
    "    \n",
    "    # resample to 6 month with the mean and create a bar plot\n",
    "    y_resample = y.resample('6M').mean()\n",
    "\n",
    "    y_resample.index = y_resample.index.strftime(date_format='%Y-%m')\n",
    "\n",
    "    y_resample.plot.bar(width=.9, ec='black')\n",
    "\n",
    "    # establish titles and axis lables\n",
    "    plt.title('Average Difference by 6 Month Period')\n",
    "    plt.xlabel('6-Month-Interval')\n",
    "    plt.ylabel('Difference in Price')\n",
    "    plt.xticks(rotation = 55)\n",
    "\n",
    "    # only get the grid lines to folloow the x axis\n",
    "    plt.grid(axis='x')\n",
    "    \n",
    "    # show the function\n",
    "    plt.show()\n",
    "    \n",
    "    return"
   ]
  },
  {
   "cell_type": "code",
   "execution_count": 10,
   "id": "bf35ae5a",
   "metadata": {},
   "outputs": [],
   "source": [
    "# get data\n",
    "df, train, validate, test = wrangle_data()\n",
    "\n",
    "# get target\n",
    "y = df['diff']"
   ]
  },
  {
   "cell_type": "code",
   "execution_count": 9,
   "id": "b02ffd5c",
   "metadata": {},
   "outputs": [],
   "source": [
    "# y['date'] = y.index.date"
   ]
  },
  {
   "cell_type": "code",
   "execution_count": 21,
   "id": "3bff9e28",
   "metadata": {},
   "outputs": [
    {
     "data": {
      "text/plain": [
       "Index(['01/01/17', '02/01/17', '03/01/17', '04/01/17', '05/01/17', '06/01/17',\n",
       "       '07/01/17', '08/01/17', '09/01/17', '10/01/17', '11/01/17', '12/01/17',\n",
       "       '01/01/18', '02/01/18', '03/01/18', '04/01/18', '05/01/18', '06/01/18',\n",
       "       '07/01/18', '08/01/18', '09/01/18', '10/01/18', '11/01/18', '12/01/18',\n",
       "       '01/01/19', '02/01/19', '03/01/19', '04/01/19', '05/01/19', '06/01/19',\n",
       "       '07/01/19', '08/01/19', '09/01/19', '10/01/19', '11/01/19', '12/01/19',\n",
       "       '01/01/20', '02/01/20', '03/01/20', '04/01/20', '05/01/20', '06/01/20',\n",
       "       '07/01/20', '08/01/20', '09/01/20', '10/01/20', '11/01/20', '12/01/20',\n",
       "       '01/01/21', '02/01/21', '03/01/21', '04/01/21', '05/01/21', '06/01/21',\n",
       "       '07/01/21', '08/01/21', '09/01/21', '10/01/21', '11/01/21', '12/01/21',\n",
       "       '01/01/22', '02/01/22', '03/01/22', '04/01/22', '05/01/22', '06/01/22',\n",
       "       '07/01/22', '08/01/22', '09/01/22', '10/01/22', '11/01/22', '12/01/22',\n",
       "       '01/01/23', '02/01/23', '03/01/23'],\n",
       "      dtype='object')"
      ]
     },
     "execution_count": 21,
     "metadata": {},
     "output_type": "execute_result"
    }
   ],
   "source": [
    "y.index.strftime(date_format='%D')"
   ]
  },
  {
   "cell_type": "code",
   "execution_count": 32,
   "id": "1638c7cb",
   "metadata": {},
   "outputs": [
    {
     "data": {
      "image/png": "[encoded data removed]",
      "text/plain": [
       "<Figure size 1300x700 with 1 Axes>"
      ]
     },
     "metadata": {},
     "output_type": "display_data"
    }
   ],
   "source": [
    "# resample to 6 month with the mean and create a bar plot\n",
    "y_resample = y.resample('6M').mean()\n",
    "\n",
    "y_resample.index = y_resample.index.strftime(date_format='%Y-%m')\n",
    "\n",
    "y_resample.plot.bar(width=.9, ec='black')\n",
    "\n",
    "# establish titles and axis lables\n",
    "plt.title('Average Difference by 6 Month Period')\n",
    "plt.xlabel('6-Month-Interval')\n",
    "plt.ylabel('Difference in Price')\n",
    "plt.xticks(rotation = 55)\n",
    "\n",
    "# only get the grid lines to folloow the x axis\n",
    "plt.grid(axis='x')"
   ]
  },
  {
   "cell_type": "code",
   "execution_count": null,
   "id": "6641f672",
   "metadata": {},
   "outputs": [],
   "source": [
    "get_avg_diff_6m()"
   ]
  },
  {
   "cell_type": "code",
   "execution_count": null,
   "id": "79b8c5eb",
   "metadata": {
    "scrolled": true
   },
   "outputs": [],
   "source": [
    "# resample to 6 month with the mean\n",
    "y.resample('6M').mean().plot.bar(width=.9, ec='black')"
   ]
  },
  {
   "cell_type": "code",
   "execution_count": null,
   "id": "c13cfcca",
   "metadata": {},
   "outputs": [],
   "source": [
    "from explore import (get_disparity_graph, \n",
    "                    get_target_hist,\n",
    "                    get_trend_line_plot,\n",
    "                    get_difference_by_month_bar,\n",
    "                    get_avg_diff_6m)"
   ]
  },
  {
   "cell_type": "code",
   "execution_count": null,
   "id": "9dfed6bc",
   "metadata": {},
   "outputs": [],
   "source": [
    "get_avg_diff_6m()"
   ]
  },
  {
   "cell_type": "code",
   "execution_count": null,
   "id": "b1504636",
   "metadata": {},
   "outputs": [],
   "source": [
    "get_difference_by_month_bar()"
   ]
  },
  {
   "cell_type": "code",
   "execution_count": null,
   "id": "710f831c",
   "metadata": {},
   "outputs": [],
   "source": [
    "get_target_hist()"
   ]
  }
 ],
 "metadata": {
  "kernelspec": {
   "display_name": "Python 3 (ipykernel)",
   "language": "python",
   "name": "python3"
  },
  "language_info": {
   "codemirror_mode": {
    "name": "ipython",
    "version": 3
   },
   "file_extension": ".py",
   "mimetype": "text/x-python",
   "name": "python",
   "nbconvert_exporter": "python",
   "pygments_lexer": "ipython3",
   "version": "3.9.13"
  }
 },
 "nbformat": 4,
 "nbformat_minor": 5
}
