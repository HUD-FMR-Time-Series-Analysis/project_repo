{
 "cells": [
  {
   "cell_type": "code",
   "execution_count": 1,
   "id": "7e6f0151",
   "metadata": {},
   "outputs": [],
   "source": [
    "import pandas as pd\n",
    "from prepare_hud_aggregate import get_hud_macro_data\n",
    "from wrangle_HUDpro_amr_data import get_sanant_amr_data"
   ]
  },
  {
   "cell_type": "code",
   "execution_count": 2,
   "id": "62af9e5f",
   "metadata": {},
   "outputs": [],
   "source": [
    "hud = get_hud_macro_data()"
   ]
  },
  {
   "cell_type": "code",
   "execution_count": 3,
   "id": "71179cec",
   "metadata": {},
   "outputs": [
    {
     "name": "stderr",
     "output_type": "stream",
     "text": [
      "/Users/aaron/codeup-data-science/project_repo/a_moore/wrangle_HUDpro_amr_data.py:39: FutureWarning: The default value of regex will change from True to False in a future version. In addition, single character regular expressions will *not* be treated as literal strings when regex=True.\n",
      "  df['AMR']= df['AMR'].str.replace('$','').str.replace(',','')\n"
     ]
    }
   ],
   "source": [
    "amr = get_sanant_amr_data()"
   ]
  },
  {
   "cell_type": "code",
   "execution_count": 4,
   "id": "03c2ef2d",
   "metadata": {},
   "outputs": [
    {
     "data": {
      "text/html": [
       "<div>\n",
       "<style scoped>\n",
       "    .dataframe tbody tr th:only-of-type {\n",
       "        vertical-align: middle;\n",
       "    }\n",
       "\n",
       "    .dataframe tbody tr th {\n",
       "        vertical-align: top;\n",
       "    }\n",
       "\n",
       "    .dataframe thead th {\n",
       "        text-align: right;\n",
       "    }\n",
       "</style>\n",
       "<table border=\"1\" class=\"dataframe\">\n",
       "  <thead>\n",
       "    <tr style=\"text-align: right;\">\n",
       "      <th></th>\n",
       "      <th>fmr</th>\n",
       "    </tr>\n",
       "    <tr>\n",
       "      <th>date</th>\n",
       "      <th></th>\n",
       "    </tr>\n",
       "  </thead>\n",
       "  <tbody>\n",
       "    <tr>\n",
       "      <th>2016-10</th>\n",
       "      <td>964</td>\n",
       "    </tr>\n",
       "    <tr>\n",
       "      <th>2016-11</th>\n",
       "      <td>964</td>\n",
       "    </tr>\n",
       "    <tr>\n",
       "      <th>2016-12</th>\n",
       "      <td>964</td>\n",
       "    </tr>\n",
       "    <tr>\n",
       "      <th>2017-01</th>\n",
       "      <td>964</td>\n",
       "    </tr>\n",
       "    <tr>\n",
       "      <th>2017-02</th>\n",
       "      <td>964</td>\n",
       "    </tr>\n",
       "  </tbody>\n",
       "</table>\n",
       "</div>"
      ],
      "text/plain": [
       "         fmr\n",
       "date        \n",
       "2016-10  964\n",
       "2016-11  964\n",
       "2016-12  964\n",
       "2017-01  964\n",
       "2017-02  964"
      ]
     },
     "execution_count": 4,
     "metadata": {},
     "output_type": "execute_result"
    }
   ],
   "source": [
    "# checking head\n",
    "hud.head()"
   ]
  },
  {
   "cell_type": "code",
   "execution_count": 5,
   "id": "2a8949a7",
   "metadata": {},
   "outputs": [
    {
     "data": {
      "text/html": [
       "<div>\n",
       "<style scoped>\n",
       "    .dataframe tbody tr th:only-of-type {\n",
       "        vertical-align: middle;\n",
       "    }\n",
       "\n",
       "    .dataframe tbody tr th {\n",
       "        vertical-align: top;\n",
       "    }\n",
       "\n",
       "    .dataframe thead th {\n",
       "        text-align: right;\n",
       "    }\n",
       "</style>\n",
       "<table border=\"1\" class=\"dataframe\">\n",
       "  <thead>\n",
       "    <tr style=\"text-align: right;\">\n",
       "      <th></th>\n",
       "      <th>AMR</th>\n",
       "    </tr>\n",
       "  </thead>\n",
       "  <tbody>\n",
       "    <tr>\n",
       "      <th>2017-01-01</th>\n",
       "      <td>1019</td>\n",
       "    </tr>\n",
       "    <tr>\n",
       "      <th>2017-02-01</th>\n",
       "      <td>1014</td>\n",
       "    </tr>\n",
       "    <tr>\n",
       "      <th>2017-03-01</th>\n",
       "      <td>1040</td>\n",
       "    </tr>\n",
       "    <tr>\n",
       "      <th>2017-04-01</th>\n",
       "      <td>1044</td>\n",
       "    </tr>\n",
       "    <tr>\n",
       "      <th>2017-05-01</th>\n",
       "      <td>1012</td>\n",
       "    </tr>\n",
       "  </tbody>\n",
       "</table>\n",
       "</div>"
      ],
      "text/plain": [
       "             AMR\n",
       "2017-01-01  1019\n",
       "2017-02-01  1014\n",
       "2017-03-01  1040\n",
       "2017-04-01  1044\n",
       "2017-05-01  1012"
      ]
     },
     "execution_count": 5,
     "metadata": {},
     "output_type": "execute_result"
    }
   ],
   "source": [
    "# check amr head\n",
    "amr.head()"
   ]
  },
  {
   "cell_type": "markdown",
   "id": "46fa12da",
   "metadata": {},
   "source": [
    "### Merging the data sets"
   ]
  },
  {
   "cell_type": "code",
   "execution_count": 6,
   "id": "f3de7f90",
   "metadata": {},
   "outputs": [
    {
     "data": {
      "text/html": [
       "<div>\n",
       "<style scoped>\n",
       "    .dataframe tbody tr th:only-of-type {\n",
       "        vertical-align: middle;\n",
       "    }\n",
       "\n",
       "    .dataframe tbody tr th {\n",
       "        vertical-align: top;\n",
       "    }\n",
       "\n",
       "    .dataframe thead th {\n",
       "        text-align: right;\n",
       "    }\n",
       "</style>\n",
       "<table border=\"1\" class=\"dataframe\">\n",
       "  <thead>\n",
       "    <tr style=\"text-align: right;\">\n",
       "      <th></th>\n",
       "      <th>fmr</th>\n",
       "      <th>AMR</th>\n",
       "    </tr>\n",
       "  </thead>\n",
       "  <tbody>\n",
       "    <tr>\n",
       "      <th>2017-01-01 00:00:00</th>\n",
       "      <td>NaN</td>\n",
       "      <td>1019</td>\n",
       "    </tr>\n",
       "    <tr>\n",
       "      <th>2017-02-01 00:00:00</th>\n",
       "      <td>NaN</td>\n",
       "      <td>1014</td>\n",
       "    </tr>\n",
       "    <tr>\n",
       "      <th>2017-03-01 00:00:00</th>\n",
       "      <td>NaN</td>\n",
       "      <td>1040</td>\n",
       "    </tr>\n",
       "    <tr>\n",
       "      <th>2017-04-01 00:00:00</th>\n",
       "      <td>NaN</td>\n",
       "      <td>1044</td>\n",
       "    </tr>\n",
       "    <tr>\n",
       "      <th>2017-05-01 00:00:00</th>\n",
       "      <td>NaN</td>\n",
       "      <td>1012</td>\n",
       "    </tr>\n",
       "    <tr>\n",
       "      <th>...</th>\n",
       "      <td>...</td>\n",
       "      <td>...</td>\n",
       "    </tr>\n",
       "    <tr>\n",
       "      <th>2022-06</th>\n",
       "      <td>1165.0</td>\n",
       "      <td>NaN</td>\n",
       "    </tr>\n",
       "    <tr>\n",
       "      <th>2022-07</th>\n",
       "      <td>1165.0</td>\n",
       "      <td>NaN</td>\n",
       "    </tr>\n",
       "    <tr>\n",
       "      <th>2022-08</th>\n",
       "      <td>1165.0</td>\n",
       "      <td>NaN</td>\n",
       "    </tr>\n",
       "    <tr>\n",
       "      <th>2022-09</th>\n",
       "      <td>1165.0</td>\n",
       "      <td>NaN</td>\n",
       "    </tr>\n",
       "    <tr>\n",
       "      <th>2022-10</th>\n",
       "      <td>1282.0</td>\n",
       "      <td>NaN</td>\n",
       "    </tr>\n",
       "  </tbody>\n",
       "</table>\n",
       "<p>148 rows × 2 columns</p>\n",
       "</div>"
      ],
      "text/plain": [
       "                        fmr   AMR\n",
       "2017-01-01 00:00:00     NaN  1019\n",
       "2017-02-01 00:00:00     NaN  1014\n",
       "2017-03-01 00:00:00     NaN  1040\n",
       "2017-04-01 00:00:00     NaN  1044\n",
       "2017-05-01 00:00:00     NaN  1012\n",
       "...                     ...   ...\n",
       "2022-06              1165.0   NaN\n",
       "2022-07              1165.0   NaN\n",
       "2022-08              1165.0   NaN\n",
       "2022-09              1165.0   NaN\n",
       "2022-10              1282.0   NaN\n",
       "\n",
       "[148 rows x 2 columns]"
      ]
     },
     "execution_count": 6,
     "metadata": {},
     "output_type": "execute_result"
    }
   ],
   "source": [
    "pd.merge(left=hud, right=amr, how='outer', right_index=True, left_index=True)"
   ]
  },
  {
   "cell_type": "markdown",
   "id": "d613a1b2",
   "metadata": {},
   "source": [
    "#### Notes\n",
    "* I think the string is not working becasue of the date part, I will try to convert the index of the hud to a datetime\n"
   ]
  },
  {
   "cell_type": "code",
   "execution_count": 7,
   "id": "38eca4d7",
   "metadata": {},
   "outputs": [],
   "source": [
    "# converting the hud index datetime\n",
    "hud.index = pd.to_datetime(hud.index)"
   ]
  },
  {
   "cell_type": "code",
   "execution_count": 8,
   "id": "de86efe5",
   "metadata": {},
   "outputs": [],
   "source": [
    "# I belioeve the merge has nulls because the dates didnt have any information in thos sections\n",
    "merged = pd.merge(left=hud, right=amr, how='outer', right_index=True, left_index=True)"
   ]
  },
  {
   "cell_type": "code",
   "execution_count": 9,
   "id": "4731396a",
   "metadata": {},
   "outputs": [
    {
     "data": {
      "text/html": [
       "<div>\n",
       "<style scoped>\n",
       "    .dataframe tbody tr th:only-of-type {\n",
       "        vertical-align: middle;\n",
       "    }\n",
       "\n",
       "    .dataframe tbody tr th {\n",
       "        vertical-align: top;\n",
       "    }\n",
       "\n",
       "    .dataframe thead th {\n",
       "        text-align: right;\n",
       "    }\n",
       "</style>\n",
       "<table border=\"1\" class=\"dataframe\">\n",
       "  <thead>\n",
       "    <tr style=\"text-align: right;\">\n",
       "      <th></th>\n",
       "      <th>fmr</th>\n",
       "    </tr>\n",
       "    <tr>\n",
       "      <th>date</th>\n",
       "      <th></th>\n",
       "    </tr>\n",
       "  </thead>\n",
       "  <tbody>\n",
       "    <tr>\n",
       "      <th>2022-06-01</th>\n",
       "      <td>1165</td>\n",
       "    </tr>\n",
       "    <tr>\n",
       "      <th>2022-07-01</th>\n",
       "      <td>1165</td>\n",
       "    </tr>\n",
       "    <tr>\n",
       "      <th>2022-08-01</th>\n",
       "      <td>1165</td>\n",
       "    </tr>\n",
       "    <tr>\n",
       "      <th>2022-09-01</th>\n",
       "      <td>1165</td>\n",
       "    </tr>\n",
       "    <tr>\n",
       "      <th>2022-10-01</th>\n",
       "      <td>1282</td>\n",
       "    </tr>\n",
       "  </tbody>\n",
       "</table>\n",
       "</div>"
      ],
      "text/plain": [
       "             fmr\n",
       "date            \n",
       "2022-06-01  1165\n",
       "2022-07-01  1165\n",
       "2022-08-01  1165\n",
       "2022-09-01  1165\n",
       "2022-10-01  1282"
      ]
     },
     "execution_count": 9,
     "metadata": {},
     "output_type": "execute_result"
    }
   ],
   "source": [
    "# hus stops in october of 2022\n",
    "hud.tail()"
   ]
  },
  {
   "cell_type": "code",
   "execution_count": 10,
   "id": "5de96c9e",
   "metadata": {},
   "outputs": [],
   "source": [
    "# filling in witht he correct number\n",
    "merged['fmr'].fillna(1286, inplace=True)"
   ]
  },
  {
   "cell_type": "code",
   "execution_count": 11,
   "id": "6fd945aa",
   "metadata": {},
   "outputs": [
    {
     "data": {
      "text/html": [
       "<div>\n",
       "<style scoped>\n",
       "    .dataframe tbody tr th:only-of-type {\n",
       "        vertical-align: middle;\n",
       "    }\n",
       "\n",
       "    .dataframe tbody tr th {\n",
       "        vertical-align: top;\n",
       "    }\n",
       "\n",
       "    .dataframe thead th {\n",
       "        text-align: right;\n",
       "    }\n",
       "</style>\n",
       "<table border=\"1\" class=\"dataframe\">\n",
       "  <thead>\n",
       "    <tr style=\"text-align: right;\">\n",
       "      <th></th>\n",
       "      <th>fmr</th>\n",
       "      <th>AMR</th>\n",
       "    </tr>\n",
       "  </thead>\n",
       "  <tbody>\n",
       "    <tr>\n",
       "      <th>2016-10-01</th>\n",
       "      <td>964.0</td>\n",
       "      <td>NaN</td>\n",
       "    </tr>\n",
       "    <tr>\n",
       "      <th>2016-11-01</th>\n",
       "      <td>964.0</td>\n",
       "      <td>NaN</td>\n",
       "    </tr>\n",
       "    <tr>\n",
       "      <th>2016-12-01</th>\n",
       "      <td>964.0</td>\n",
       "      <td>NaN</td>\n",
       "    </tr>\n",
       "    <tr>\n",
       "      <th>2017-01-01</th>\n",
       "      <td>964.0</td>\n",
       "      <td>1019</td>\n",
       "    </tr>\n",
       "    <tr>\n",
       "      <th>2017-02-01</th>\n",
       "      <td>964.0</td>\n",
       "      <td>1014</td>\n",
       "    </tr>\n",
       "    <tr>\n",
       "      <th>...</th>\n",
       "      <td>...</td>\n",
       "      <td>...</td>\n",
       "    </tr>\n",
       "    <tr>\n",
       "      <th>2022-11-01</th>\n",
       "      <td>1286.0</td>\n",
       "      <td>1495</td>\n",
       "    </tr>\n",
       "    <tr>\n",
       "      <th>2022-12-01</th>\n",
       "      <td>1286.0</td>\n",
       "      <td>1502</td>\n",
       "    </tr>\n",
       "    <tr>\n",
       "      <th>2023-01-01</th>\n",
       "      <td>1286.0</td>\n",
       "      <td>1502</td>\n",
       "    </tr>\n",
       "    <tr>\n",
       "      <th>2023-02-01</th>\n",
       "      <td>1286.0</td>\n",
       "      <td>1500</td>\n",
       "    </tr>\n",
       "    <tr>\n",
       "      <th>2023-03-01</th>\n",
       "      <td>1286.0</td>\n",
       "      <td>1500</td>\n",
       "    </tr>\n",
       "  </tbody>\n",
       "</table>\n",
       "<p>78 rows × 2 columns</p>\n",
       "</div>"
      ],
      "text/plain": [
       "               fmr   AMR\n",
       "2016-10-01   964.0   NaN\n",
       "2016-11-01   964.0   NaN\n",
       "2016-12-01   964.0   NaN\n",
       "2017-01-01   964.0  1019\n",
       "2017-02-01   964.0  1014\n",
       "...            ...   ...\n",
       "2022-11-01  1286.0  1495\n",
       "2022-12-01  1286.0  1502\n",
       "2023-01-01  1286.0  1502\n",
       "2023-02-01  1286.0  1500\n",
       "2023-03-01  1286.0  1500\n",
       "\n",
       "[78 rows x 2 columns]"
      ]
     },
     "execution_count": 11,
     "metadata": {},
     "output_type": "execute_result"
    }
   ],
   "source": [
    "# checking\n",
    "merged"
   ]
  },
  {
   "cell_type": "code",
   "execution_count": 12,
   "id": "5da2a319",
   "metadata": {},
   "outputs": [],
   "source": [
    "# looks good, we will now dorp the other nulls before that time period"
   ]
  },
  {
   "cell_type": "code",
   "execution_count": 13,
   "id": "dff90b9a",
   "metadata": {},
   "outputs": [
    {
     "data": {
      "text/plain": [
       "fmr    0\n",
       "AMR    3\n",
       "dtype: int64"
      ]
     },
     "execution_count": 13,
     "metadata": {},
     "output_type": "execute_result"
    }
   ],
   "source": [
    "# make sure htese are the only nulls\n",
    "merged.isna().sum()"
   ]
  },
  {
   "cell_type": "code",
   "execution_count": 14,
   "id": "53f932c7",
   "metadata": {},
   "outputs": [],
   "source": [
    "# dropping the null values that are not necessary\n",
    "merged.dropna(inplace=True)"
   ]
  },
  {
   "cell_type": "code",
   "execution_count": 15,
   "id": "59195bde",
   "metadata": {},
   "outputs": [],
   "source": [
    "# changed amr to float\n",
    "merged['AMR'] = merged['AMR'].astype(float)"
   ]
  },
  {
   "cell_type": "code",
   "execution_count": 16,
   "id": "93e145f5",
   "metadata": {},
   "outputs": [],
   "source": [
    "# creating the difference \n",
    "merged['diff'] =  merged['AMR'] - merged['fmr']"
   ]
  },
  {
   "cell_type": "code",
   "execution_count": 17,
   "id": "21ce229b",
   "metadata": {},
   "outputs": [],
   "source": [
    "# changing name for accureacy (its the median not the average)\n",
    "merged = merged.rename({'AMR': 'mmr'}, axis=1)"
   ]
  },
  {
   "cell_type": "code",
   "execution_count": 20,
   "id": "da4764b0",
   "metadata": {},
   "outputs": [],
   "source": [
    "# Creating a function for it \n",
    "def wrangle_data():\n",
    "    '''\n",
    "    Arguments: none\n",
    "    Actions: gets both data sets, changes the fmr index to datetime, merges bothe data sets, imputes missing fmr data with last value, drops the mmr data, adds column with the difference between them\n",
    "    Returns: merged data frame ready for exploration\n",
    "    Modules:\n",
    "        import pandas as pd\n",
    "        from prepare_hud_aggregate import get_hud_macro_data\n",
    "        from wrangle_HUDpro_amr_data import get_sanant_amr_data\n",
    "    Notes: csv's required for hud and sanantonio market rent data must be in the same folder as this function for it to work \n",
    "    '''\n",
    "    hud = get_hud_macro_data()\n",
    "    amr = get_sanant_amr_data()\n",
    "    \n",
    "    # converting the hud index datetime\n",
    "    hud.index = pd.to_datetime(hud.index)\n",
    "\n",
    "\n",
    "    # creating merged df\n",
    "    merged = pd.merge(left=hud, right=amr, how='outer', right_index=True, left_index=True)\n",
    "    \n",
    "    # filling in witht he correct number\n",
    "    merged['fmr'].fillna(1286, inplace=True)\n",
    "    \n",
    "    # dropping the null values that are not necessary\n",
    "    merged.dropna(inplace=True)\n",
    "    \n",
    "    # changed amr to float\n",
    "    merged['AMR'] = merged['AMR'].astype(float)\n",
    "    \n",
    "    # creating the difference \n",
    "    merged['diff'] =  merged['AMR'] - merged['fmr']\n",
    "    \n",
    "    # changing name for accureacy (its the median not the average)\n",
    "    merged = merged.rename({'AMR': 'mmr'}, axis=1)\n",
    "    \n",
    "    # creating the train\n",
    "    train = merged[merged.index <= '2022-02-01']\n",
    "    \n",
    "    # creating the test \n",
    "    test =  merged[merged.index > '2022-02-01']\n",
    "    \n",
    "    # return the merged df\n",
    "    return merged, train, test"
   ]
  },
  {
   "cell_type": "code",
   "execution_count": 21,
   "id": "a57a4f46",
   "metadata": {},
   "outputs": [
    {
     "name": "stderr",
     "output_type": "stream",
     "text": [
      "/Users/aaron/codeup-data-science/project_repo/a_moore/wrangle_HUDpro_amr_data.py:39: FutureWarning: The default value of regex will change from True to False in a future version. In addition, single character regular expressions will *not* be treated as literal strings when regex=True.\n",
      "  df['AMR']= df['AMR'].str.replace('$','').str.replace(',','')\n"
     ]
    }
   ],
   "source": [
    "df, train, test = wrangle_data()"
   ]
  },
  {
   "cell_type": "code",
   "execution_count": null,
   "id": "94dd18a3",
   "metadata": {},
   "outputs": [],
   "source": [
    "train"
   ]
  },
  {
   "cell_type": "code",
   "execution_count": null,
   "id": "af86c4f4",
   "metadata": {},
   "outputs": [],
   "source": [
    "test"
   ]
  },
  {
   "cell_type": "code",
   "execution_count": null,
   "id": "f3d89e8a",
   "metadata": {},
   "outputs": [],
   "source": [
    "test =  df[df.index > '2022-02-01']"
   ]
  },
  {
   "cell_type": "code",
   "execution_count": null,
   "id": "cf63f370",
   "metadata": {},
   "outputs": [],
   "source": [
    "train = df[df.index <= '2022-02-01']"
   ]
  },
  {
   "cell_type": "code",
   "execution_count": null,
   "id": "1c4b7c0a",
   "metadata": {},
   "outputs": [],
   "source": [
    "from wrangle import wrangle_data"
   ]
  },
  {
   "cell_type": "code",
   "execution_count": 22,
   "id": "8005236f",
   "metadata": {},
   "outputs": [
    {
     "name": "stderr",
     "output_type": "stream",
     "text": [
      "/Users/aaron/codeup-data-science/project_repo/a_moore/wrangle_HUDpro_amr_data.py:39: FutureWarning: The default value of regex will change from True to False in a future version. In addition, single character regular expressions will *not* be treated as literal strings when regex=True.\n",
      "  df['AMR']= df['AMR'].str.replace('$','').str.replace(',','')\n"
     ]
    }
   ],
   "source": [
    "df, train, test = wrangle_data()"
   ]
  },
  {
   "cell_type": "code",
   "execution_count": null,
   "id": "5e328750",
   "metadata": {},
   "outputs": [],
   "source": [
    "df"
   ]
  },
  {
   "cell_type": "code",
   "execution_count": null,
   "id": "7e5c24a2",
   "metadata": {},
   "outputs": [],
   "source": [
    "train"
   ]
  },
  {
   "cell_type": "code",
   "execution_count": null,
   "id": "e3d2dafc",
   "metadata": {},
   "outputs": [],
   "source": [
    "test"
   ]
  },
  {
   "cell_type": "code",
   "execution_count": null,
   "id": "b83309f5",
   "metadata": {},
   "outputs": [],
   "source": []
  },
  {
   "cell_type": "raw",
   "id": "c6fc8987",
   "metadata": {},
   "source": [
    "Complete percent change overtime"
   ]
  },
  {
   "cell_type": "code",
   "execution_count": 33,
   "id": "ae6a5a71",
   "metadata": {},
   "outputs": [
    {
     "data": {
      "text/plain": [
       "0.33402489626556015"
      ]
     },
     "execution_count": 33,
     "metadata": {},
     "output_type": "execute_result"
    }
   ],
   "source": [
    "#FMR\n",
    "(df['fmr'][-1] - df['fmr'][0]) / df['fmr'][0]"
   ]
  },
  {
   "cell_type": "code",
   "execution_count": 32,
   "id": "6b0fce0b",
   "metadata": {},
   "outputs": [
    {
     "data": {
      "text/plain": [
       "0.47203140333660454"
      ]
     },
     "execution_count": 32,
     "metadata": {},
     "output_type": "execute_result"
    }
   ],
   "source": [
    "#MMR\n",
    "(df['mmr'][-1] - df['mmr'][0]) / df['mmr'][0]"
   ]
  },
  {
   "cell_type": "code",
   "execution_count": 78,
   "id": "7ce53101",
   "metadata": {},
   "outputs": [],
   "source": [
    "df['fmr_perc_change'] = ((df['fmr'] - df['fmr'].shift(1) )/df['fmr'].shift(1))*100\n",
    "\n",
    "df['diff_perc_change'] = ((df['diff'] - df['diff'].shift(1))/df['diff'].shift(1))*100\n",
    "\n",
    "df['mmr_last_month'] = df['mmr'].shift(1)\n",
    "\n",
    "df['mmr_perc_change'] = ((df['mmr'] - df['mmr_last_month']) / df['mmr'].shift(1) )* 100"
   ]
  },
  {
   "cell_type": "code",
   "execution_count": 84,
   "id": "c8441b02",
   "metadata": {},
   "outputs": [
    {
     "data": {
      "text/plain": [
       "<AxesSubplot:>"
      ]
     },
     "execution_count": 84,
     "metadata": {},
     "output_type": "execute_result"
    },
    {
     "data": {
      "image/png": "[encoded data removed]",
      "text/plain": [
       "<Figure size 640x480 with 1 Axes>"
      ]
     },
     "metadata": {},
     "output_type": "display_data"
    }
   ],
   "source": [
    "df['mmr_perc_change'].plot()\n",
    "df['fmr_perc_change'].plot()\n",
    "df['diff_perc_change'].plot()"
   ]
  }
 ],
 "metadata": {
  "kernelspec": {
   "display_name": "Python 3 (ipykernel)",
   "language": "python",
   "name": "python3"
  },
  "language_info": {
   "codemirror_mode": {
    "name": "ipython",
    "version": 3
   },
   "file_extension": ".py",
   "mimetype": "text/x-python",
   "name": "python",
   "nbconvert_exporter": "python",
   "pygments_lexer": "ipython3",
   "version": "3.9.13"
  }
 },
 "nbformat": 4,
 "nbformat_minor": 5
}
