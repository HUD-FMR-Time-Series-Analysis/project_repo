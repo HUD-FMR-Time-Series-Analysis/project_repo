{
 "cells": [
  {
   "cell_type": "markdown",
   "id": "0436f0c7",
   "metadata": {},
   "source": [
    "# The housing choice voucher program\n",
    "\n",
    "    The federal governments \"program for assisting very low income families, the elderly, and the disabled to afford decent, safe, and sanitary housing in the private market\". Housing assistance is provided on behalf of the family or individual, meaning they are able to find their own housing i.e. single family homes, townhouses, and apartments.\n",
    "    \n",
    "    Participants can choose any housing that meets the requirements of the program and is not limited to units located in subsidized housing projects.\n",
    "    \n",
    "    Housing choice vouchers are administered locally by public housing agencies (PHAs). PHAs recieve federal funds from the U.S Department of Housing and Urban Development \n",
    "    (HUD).\n",
    "    \n",
    "    Participants are responsible for locating suitable housing where the owner agrees to rent under the program.\n",
    "    \n",
    "    A housing subsidy is paid to the landlord directly by the PHA on behalf of the participant. The participant then pays the difference between the actual rent charged by the landlord and the amount subsidized by the program. Under certain circumstances, a participant may use their voucher to purchase a modest home."
   ]
  },
  {
   "cell_type": "markdown",
   "id": "c7997502",
   "metadata": {},
   "source": [
    "# Eligibility\n",
    "\n",
    "    Based on\n",
    "        total annual gross income\n",
    "        family size\n",
    "    \n",
    "    Limited to\n",
    "        US citizens\n",
    "        Specified non-citizens with eligible immigration status\n",
    "        \n",
    "    Income may not exceed 50% of the median oncome for the county of metropolitan of residence\n",
    "    \n",
    "    75% of PHA vouchers MUST be distributed to applicants whose incomesdo not exceed 30% of the area median income"
   ]
  },
  {
   "cell_type": "markdown",
   "id": "975c2d73",
   "metadata": {},
   "source": [
    "# The rent subsidy\n",
    "\n",
    "    The PHA calculates the maximum amount of housing assistance allowable. The maximum housing assistance is generally the lesser of the payment standard minus 30% of the family's monthly adjusted income or the gross rent for the unit minus 30% of monthly adjusted income.\n",
    "\n"
   ]
  },
  {
   "cell_type": "markdown",
   "id": "558890a8",
   "metadata": {},
   "source": [
    "Data for the 2022 US economic census will become available in March 2024"
   ]
  },
  {
   "cell_type": "markdown",
   "id": "9fef6041",
   "metadata": {},
   "source": [
    "__Rent Moratorium__\n",
    "    \n",
    "    Began: 03-27-2020\n",
    "    Ended: 06-30-2021\n",
    "    \n",
    "    Effective March 27, 2020 the federal government signed the CARES Act into law."
   ]
  },
  {
   "cell_type": "code",
   "execution_count": null,
   "id": "e9fbc3dc",
   "metadata": {},
   "outputs": [],
   "source": []
  },
  {
   "cell_type": "markdown",
   "id": "59a79dc0",
   "metadata": {},
   "source": [
    "# Ideas\n",
    "\n",
    "    Plot number of PHAs in SA\n",
    "    Plot subsidized housing projects\n",
    "    Plot locations that meet program requirements\n",
    "    Look at funding over the years especially during and after covid\n",
    "    \n",
    "    look at % change of fmr and mmr over the years"
   ]
  }
 ],
 "metadata": {
  "kernelspec": {
   "display_name": "Python 3 (ipykernel)",
   "language": "python",
   "name": "python3"
  },
  "language_info": {
   "codemirror_mode": {
    "name": "ipython",
    "version": 3
   },
   "file_extension": ".py",
   "mimetype": "text/x-python",
   "name": "python",
   "nbconvert_exporter": "python",
   "pygments_lexer": "ipython3",
   "version": "3.9.13"
  }
 },
 "nbformat": 4,
 "nbformat_minor": 5
}
